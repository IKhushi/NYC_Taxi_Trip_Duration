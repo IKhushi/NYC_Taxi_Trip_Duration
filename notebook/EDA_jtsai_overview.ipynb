{
 "cells": [
  {
   "cell_type": "markdown",
   "metadata": {},
   "source": [
    "# Exploratory Data Analysis (EDA) - overview \n",
    "---\n",
    "* **Overview default data**\n",
    "<br />Use [train.csv](../data/train.csv) to do analysis, containing $1\\,458\\,644$ trips.\n",
    "\n",
    "| Name | Description | type | unit |\n",
    "| :----: | :---- | :----: | :----: | \n",
    "| id | a unique identifier for each trip | object |  |\n",
    "| vendor_id | a code indicating the provider associated with the trip record | int | |\n",
    "| pickup_datetime | date and time when the meter was engaged | object | |\n",
    "| dropoff_datetime | date and time when the meter was disengaged | object | |\n",
    "| passenger_count | the number of passengers in the vehicle (driver entered value) | int | people |\n",
    "| pickup_longitude | the longitude where the meter was engaged | float | degree |\n",
    "| pickup_latitude | the latitude where the meter was engaged | float | degree |\n",
    "| dropoff_longitude | the longitude where the meter was disengaged | float | degree | \n",
    "| dropoff_latitude | the latitude where the meter was disengaged | float | degree |\n",
    "| store_and_fwd_flag | This flag indicates whether the trip record was held in vehicle memory before sending to the vendor because the vehicle did not have a connection to the server - Y=store and forward; N=not a store and forward trip | object | |\n",
    "| trip_duration | duration of the trip | int | second |\n",
    "\n",
    "---\n",
    "## Import modules"
   ]
  },
  {
   "cell_type": "code",
   "execution_count": 32,
   "metadata": {
    "collapsed": true
   },
   "outputs": [],
   "source": [
    "import matplotlib\n",
    "import matplotlib.pyplot as plt\n",
    "import seaborn as sns\n",
    "import numpy as np\n",
    "import pandas as pd\n",
    "import string"
   ]
  },
  {
   "cell_type": "markdown",
   "metadata": {},
   "source": [
    "---\n",
    "## Load & check data"
   ]
  },
  {
   "cell_type": "code",
   "execution_count": 2,
   "metadata": {},
   "outputs": [],
   "source": [
    "df = pd.read_csv('../data/train.csv')\n",
    "#df = pd.read_csv('../data/train_mini.scv')"
   ]
  },
  {
   "cell_type": "code",
   "execution_count": 3,
   "metadata": {},
   "outputs": [
    {
     "name": "stdout",
     "output_type": "stream",
     "text": [
      "<class 'pandas.core.frame.DataFrame'>\n",
      "RangeIndex: 1458644 entries, 0 to 1458643\n",
      "Data columns (total 11 columns):\n",
      "id                    1458644 non-null object\n",
      "vendor_id             1458644 non-null int64\n",
      "pickup_datetime       1458644 non-null object\n",
      "dropoff_datetime      1458644 non-null object\n",
      "passenger_count       1458644 non-null int64\n",
      "pickup_longitude      1458644 non-null float64\n",
      "pickup_latitude       1458644 non-null float64\n",
      "dropoff_longitude     1458644 non-null float64\n",
      "dropoff_latitude      1458644 non-null float64\n",
      "store_and_fwd_flag    1458644 non-null object\n",
      "trip_duration         1458644 non-null int64\n",
      "dtypes: float64(4), int64(3), object(4)\n",
      "memory usage: 122.4+ MB\n"
     ]
    }
   ],
   "source": [
    "df.info()"
   ]
  },
  {
   "cell_type": "code",
   "execution_count": 4,
   "metadata": {},
   "outputs": [
    {
     "data": {
      "text/html": [
       "<div>\n",
       "<style>\n",
       "    .dataframe thead tr:only-child th {\n",
       "        text-align: right;\n",
       "    }\n",
       "\n",
       "    .dataframe thead th {\n",
       "        text-align: left;\n",
       "    }\n",
       "\n",
       "    .dataframe tbody tr th {\n",
       "        vertical-align: top;\n",
       "    }\n",
       "</style>\n",
       "<table border=\"1\" class=\"dataframe\">\n",
       "  <thead>\n",
       "    <tr style=\"text-align: right;\">\n",
       "      <th></th>\n",
       "      <th>id</th>\n",
       "      <th>vendor_id</th>\n",
       "      <th>pickup_datetime</th>\n",
       "      <th>dropoff_datetime</th>\n",
       "      <th>passenger_count</th>\n",
       "      <th>pickup_longitude</th>\n",
       "      <th>pickup_latitude</th>\n",
       "      <th>dropoff_longitude</th>\n",
       "      <th>dropoff_latitude</th>\n",
       "      <th>store_and_fwd_flag</th>\n",
       "      <th>trip_duration</th>\n",
       "    </tr>\n",
       "  </thead>\n",
       "  <tbody>\n",
       "    <tr>\n",
       "      <th>0</th>\n",
       "      <td>id2875421</td>\n",
       "      <td>2</td>\n",
       "      <td>2016-03-14 17:24:55</td>\n",
       "      <td>2016-03-14 17:32:30</td>\n",
       "      <td>1</td>\n",
       "      <td>-73.982155</td>\n",
       "      <td>40.767937</td>\n",
       "      <td>-73.964630</td>\n",
       "      <td>40.765602</td>\n",
       "      <td>N</td>\n",
       "      <td>455</td>\n",
       "    </tr>\n",
       "    <tr>\n",
       "      <th>1</th>\n",
       "      <td>id2377394</td>\n",
       "      <td>1</td>\n",
       "      <td>2016-06-12 00:43:35</td>\n",
       "      <td>2016-06-12 00:54:38</td>\n",
       "      <td>1</td>\n",
       "      <td>-73.980415</td>\n",
       "      <td>40.738564</td>\n",
       "      <td>-73.999481</td>\n",
       "      <td>40.731152</td>\n",
       "      <td>N</td>\n",
       "      <td>663</td>\n",
       "    </tr>\n",
       "    <tr>\n",
       "      <th>2</th>\n",
       "      <td>id3858529</td>\n",
       "      <td>2</td>\n",
       "      <td>2016-01-19 11:35:24</td>\n",
       "      <td>2016-01-19 12:10:48</td>\n",
       "      <td>1</td>\n",
       "      <td>-73.979027</td>\n",
       "      <td>40.763939</td>\n",
       "      <td>-74.005333</td>\n",
       "      <td>40.710087</td>\n",
       "      <td>N</td>\n",
       "      <td>2124</td>\n",
       "    </tr>\n",
       "    <tr>\n",
       "      <th>3</th>\n",
       "      <td>id3504673</td>\n",
       "      <td>2</td>\n",
       "      <td>2016-04-06 19:32:31</td>\n",
       "      <td>2016-04-06 19:39:40</td>\n",
       "      <td>1</td>\n",
       "      <td>-74.010040</td>\n",
       "      <td>40.719971</td>\n",
       "      <td>-74.012268</td>\n",
       "      <td>40.706718</td>\n",
       "      <td>N</td>\n",
       "      <td>429</td>\n",
       "    </tr>\n",
       "    <tr>\n",
       "      <th>4</th>\n",
       "      <td>id2181028</td>\n",
       "      <td>2</td>\n",
       "      <td>2016-03-26 13:30:55</td>\n",
       "      <td>2016-03-26 13:38:10</td>\n",
       "      <td>1</td>\n",
       "      <td>-73.973053</td>\n",
       "      <td>40.793209</td>\n",
       "      <td>-73.972923</td>\n",
       "      <td>40.782520</td>\n",
       "      <td>N</td>\n",
       "      <td>435</td>\n",
       "    </tr>\n",
       "  </tbody>\n",
       "</table>\n",
       "</div>"
      ],
      "text/plain": [
       "          id  vendor_id      pickup_datetime     dropoff_datetime  \\\n",
       "0  id2875421          2  2016-03-14 17:24:55  2016-03-14 17:32:30   \n",
       "1  id2377394          1  2016-06-12 00:43:35  2016-06-12 00:54:38   \n",
       "2  id3858529          2  2016-01-19 11:35:24  2016-01-19 12:10:48   \n",
       "3  id3504673          2  2016-04-06 19:32:31  2016-04-06 19:39:40   \n",
       "4  id2181028          2  2016-03-26 13:30:55  2016-03-26 13:38:10   \n",
       "\n",
       "   passenger_count  pickup_longitude  pickup_latitude  dropoff_longitude  \\\n",
       "0                1        -73.982155        40.767937         -73.964630   \n",
       "1                1        -73.980415        40.738564         -73.999481   \n",
       "2                1        -73.979027        40.763939         -74.005333   \n",
       "3                1        -74.010040        40.719971         -74.012268   \n",
       "4                1        -73.973053        40.793209         -73.972923   \n",
       "\n",
       "   dropoff_latitude store_and_fwd_flag  trip_duration  \n",
       "0         40.765602                  N            455  \n",
       "1         40.731152                  N            663  \n",
       "2         40.710087                  N           2124  \n",
       "3         40.706718                  N            429  \n",
       "4         40.782520                  N            435  "
      ]
     },
     "execution_count": 4,
     "metadata": {},
     "output_type": "execute_result"
    }
   ],
   "source": [
    "df.head()"
   ]
  },
  {
   "cell_type": "markdown",
   "metadata": {},
   "source": [
    "---\n",
    "## Overview default variables\n",
    "### 1. Id\n",
    "A unique identifier for each trip."
   ]
  },
  {
   "cell_type": "code",
   "execution_count": 5,
   "metadata": {},
   "outputs": [
    {
     "name": "stdout",
     "output_type": "stream",
     "text": [
      "1458644\n"
     ]
    }
   ],
   "source": [
    "print len(df.id.unique())\n",
    "df.__delitem__('id')"
   ]
  },
  {
   "cell_type": "markdown",
   "metadata": {},
   "source": [
    "Currently, it seems not to have any special feature here. It's just a data label. So it is removed."
   ]
  },
  {
   "cell_type": "markdown",
   "metadata": {},
   "source": [
    "### 2. vendor_id\n",
    "A code indicating the provider associated with the trip record."
   ]
  },
  {
   "cell_type": "code",
   "execution_count": 6,
   "metadata": {},
   "outputs": [
    {
     "name": "stdout",
     "output_type": "stream",
     "text": [
      "Value types: [1 2]\n"
     ]
    }
   ],
   "source": [
    "types = np.sort(df.vendor_id.unique())\n",
    "print 'Value types:', types"
   ]
  },
  {
   "cell_type": "code",
   "execution_count": 7,
   "metadata": {},
   "outputs": [
    {
     "name": "stdout",
     "output_type": "stream",
     "text": [
      "2    780302\n",
      "1    678342\n",
      "Name: vendor_id, dtype: int64\n"
     ]
    }
   ],
   "source": [
    "sums = df.vendor_id.value_counts()\n",
    "print sums"
   ]
  },
  {
   "cell_type": "code",
   "execution_count": 56,
   "metadata": {},
   "outputs": [
    {
     "data": {
      "image/png": "[encoded data removed]",
      "text/plain": [
       "<matplotlib.figure.Figure at 0x1113cf610>"
      ]
     },
     "metadata": {},
     "output_type": "display_data"
    }
   ],
   "source": [
    "X = df[['vendor_id']].values\n",
    "\n",
    "plt.figure(figsize=[9,7])\n",
    "plt.hist(X, bins=range(1,4))\n",
    "plt.xticks(types, ['vendor_id: '+str(i) for i in types], fontsize=20)\n",
    "plt.ylabel('Numbers', size=20)\n",
    "plt.show()"
   ]
  },
  {
   "cell_type": "markdown",
   "metadata": {},
   "source": [
    "Only two vendor id exist in the data and with reasonable equal size."
   ]
  },
  {
   "cell_type": "markdown",
   "metadata": {},
   "source": [
    "### 3. pickup_datetime & dropoff_datetime\n",
    "Date and time when the meter was **engaged** & **disengaged**<br />\n",
    "**3.1. Check content type** "
   ]
  },
  {
   "cell_type": "code",
   "execution_count": 9,
   "metadata": {},
   "outputs": [
    {
     "name": "stdout",
     "output_type": "stream",
     "text": [
      "0    2016-03-14 17:24:55\n",
      "1    2016-06-12 00:43:35\n",
      "2    2016-01-19 11:35:24\n",
      "3    2016-04-06 19:32:31\n",
      "4    2016-03-26 13:30:55\n",
      "Name: pickup_datetime, dtype: object\n",
      "Value type : <type 'str'>\n"
     ]
    }
   ],
   "source": [
    "print df['pickup_datetime'][0:5]\n",
    "print 'Value type :', type(df['pickup_datetime'][0])"
   ]
  },
  {
   "cell_type": "markdown",
   "metadata": {},
   "source": [
    "**3.2. Define functions for extracting datetime** "
   ]
  },
  {
   "cell_type": "code",
   "execution_count": 10,
   "metadata": {},
   "outputs": [],
   "source": [
    "import re, calendar, time, datetime\n",
    "\n",
    "### General function for creating/adding column\n",
    "def create_feature( dataframe, useColName, func, **kwds):\n",
    "    return dataframe[useColName].apply(func, **kwds)\n",
    "    \n",
    "def add_column( dataframe, newColName, column ):\n",
    "    df = dataframe.copy()\n",
    "    df[newColName] = column\n",
    "    return df\n",
    "\n",
    "### Extract datetime\n",
    "# Label the datetimes\n",
    "datetime_list,  datetime_dict = [ 'year', 'month', 'day', 'hour', 'minute', 'second'], {}\n",
    "for i, name in enumerate(datetime_list): datetime_dict[name] = i\n",
    "\n",
    "# Split datetime by space   \n",
    "def split_datetime(date_str):\n",
    "    # e.g. 2016-03-26 13:30:55 -> 2016 03 26 13 30 55 \n",
    "    datetime = re.sub(r'(.*)-(.*)-(.*) (.*):(.*):(.*)', r'\\1 \\2 \\3 \\4 \\5 \\6', date_str)\n",
    "    return datetime.split()\n",
    "\n",
    "# Get each datetime's value by label/index\n",
    "def get_datetime(date_str, idx, debug=False):\n",
    "    if type(idx) is str: \n",
    "        i = datetime_dict[idx]\n",
    "    else:\n",
    "        i = int(idx)\n",
    "    if debug: \n",
    "        print 'Input %s, output %d, %s'%(str(idx), i, datetime_list[i]) \n",
    "    return int(split_datetime(date_str)[i])\n",
    "\n",
    "# Other : Get each datetime's value\n",
    "def get_year(date_str):\n",
    "    return get_datetime(date_str, 'year')\n",
    "\n",
    "def get_month(date_str):\n",
    "    return get_datetime(date_str, 'month')\n",
    "\n",
    "def get_day(date_str):\n",
    "    return get_datetime(date_str, 'day')\n",
    "\n",
    "def get_hour(date_str):\n",
    "    return get_datetime(date_str, 'hour')\n",
    "\n",
    "def get_minute(date_str):\n",
    "    return get_datetime(date_str, 'minute')\n",
    "\n",
    "def get_second(date_str):\n",
    "    return get_datetime(date_str, 'second')\n",
    "\n",
    "def get_weekday(date_str):\n",
    "    return datetime.date(get_year(date_str), get_month(date_str), get_day(date_str)).isoweekday() \n",
    "\n",
    "def get_timestamp(date_str):\n",
    "    return int(time.mktime(time.strptime(date_str, '%Y-%m-%d %H:%M:%S')))\n",
    "\n",
    "\n",
    "### For cross-check\n",
    "# get_datetime('2016-03-26 13:30:55', 2)\n",
    "# get_datetime('2016-03-26 13:30:55', 'year')\n",
    "#\n",
    "#import datetime\n",
    "#a = create_feature(df, 'pickup_datetime', get_timestamp )\n",
    "#print a[0]\n",
    "#print datetime.datetime.fromtimestamp(int(a[0]))\n",
    "#print df['pickup_datetime'][0]"
   ]
  },
  {
   "cell_type": "markdown",
   "metadata": {},
   "source": [
    "**3.3. Add/remove columns to/from dataframe** "
   ]
  },
  {
   "cell_type": "code",
   "execution_count": 11,
   "metadata": {},
   "outputs": [
    {
     "name": "stdout",
     "output_type": "stream",
     "text": [
      "Extracting pickup_datetime....\n",
      "Done : 239.26413393 sec.\n",
      "Extracting dropoff_datetime....\n",
      "Done : 240.458647966 sec.\n"
     ]
    }
   ],
   "source": [
    "for situation in ['pickup', 'dropoff']:\n",
    "    # Record execution time\n",
    "    start_time = time.time()\n",
    "    print 'Extracting '+situation+'_datetime....'\n",
    "    \n",
    "    # Add splitted datetime columns\n",
    "    for i, name in enumerate(datetime_list):\n",
    "        newcol = create_feature(df, situation+'_datetime', get_datetime, idx=i)\n",
    "        df = add_column(df, situation+'_'+name, newcol)\n",
    "        \n",
    "    # Add weekday\n",
    "    newcol = create_feature(df, situation+'_datetime', get_weekday)\n",
    "    df = add_column(df, situation+'_weekday', newcol)\n",
    "\n",
    "    # Add timestamp\n",
    "    newcol = create_feature(df, situation+'_datetime', get_timestamp)\n",
    "    df = add_column(df, situation+'_timestamp', newcol)\n",
    "    \n",
    "    print 'Done : %s sec.'% str(time.time() - start_time)"
   ]
  },
  {
   "cell_type": "code",
   "execution_count": 12,
   "metadata": {},
   "outputs": [
    {
     "data": {
      "text/html": [
       "<div>\n",
       "<style>\n",
       "    .dataframe thead tr:only-child th {\n",
       "        text-align: right;\n",
       "    }\n",
       "\n",
       "    .dataframe thead th {\n",
       "        text-align: left;\n",
       "    }\n",
       "\n",
       "    .dataframe tbody tr th {\n",
       "        vertical-align: top;\n",
       "    }\n",
       "</style>\n",
       "<table border=\"1\" class=\"dataframe\">\n",
       "  <thead>\n",
       "    <tr style=\"text-align: right;\">\n",
       "      <th></th>\n",
       "      <th>vendor_id</th>\n",
       "      <th>passenger_count</th>\n",
       "      <th>pickup_longitude</th>\n",
       "      <th>pickup_latitude</th>\n",
       "      <th>dropoff_longitude</th>\n",
       "      <th>dropoff_latitude</th>\n",
       "      <th>store_and_fwd_flag</th>\n",
       "      <th>trip_duration</th>\n",
       "      <th>pickup_year</th>\n",
       "      <th>pickup_month</th>\n",
       "      <th>...</th>\n",
       "      <th>pickup_weekday</th>\n",
       "      <th>pickup_timestamp</th>\n",
       "      <th>dropoff_year</th>\n",
       "      <th>dropoff_month</th>\n",
       "      <th>dropoff_day</th>\n",
       "      <th>dropoff_hour</th>\n",
       "      <th>dropoff_minute</th>\n",
       "      <th>dropoff_second</th>\n",
       "      <th>dropoff_weekday</th>\n",
       "      <th>dropoff_timestamp</th>\n",
       "    </tr>\n",
       "  </thead>\n",
       "  <tbody>\n",
       "    <tr>\n",
       "      <th>0</th>\n",
       "      <td>2</td>\n",
       "      <td>1</td>\n",
       "      <td>-73.982155</td>\n",
       "      <td>40.767937</td>\n",
       "      <td>-73.964630</td>\n",
       "      <td>40.765602</td>\n",
       "      <td>N</td>\n",
       "      <td>455</td>\n",
       "      <td>2016</td>\n",
       "      <td>3</td>\n",
       "      <td>...</td>\n",
       "      <td>1</td>\n",
       "      <td>1457947495</td>\n",
       "      <td>2016</td>\n",
       "      <td>3</td>\n",
       "      <td>14</td>\n",
       "      <td>17</td>\n",
       "      <td>32</td>\n",
       "      <td>30</td>\n",
       "      <td>1</td>\n",
       "      <td>1457947950</td>\n",
       "    </tr>\n",
       "    <tr>\n",
       "      <th>1</th>\n",
       "      <td>1</td>\n",
       "      <td>1</td>\n",
       "      <td>-73.980415</td>\n",
       "      <td>40.738564</td>\n",
       "      <td>-73.999481</td>\n",
       "      <td>40.731152</td>\n",
       "      <td>N</td>\n",
       "      <td>663</td>\n",
       "      <td>2016</td>\n",
       "      <td>6</td>\n",
       "      <td>...</td>\n",
       "      <td>7</td>\n",
       "      <td>1465663415</td>\n",
       "      <td>2016</td>\n",
       "      <td>6</td>\n",
       "      <td>12</td>\n",
       "      <td>0</td>\n",
       "      <td>54</td>\n",
       "      <td>38</td>\n",
       "      <td>7</td>\n",
       "      <td>1465664078</td>\n",
       "    </tr>\n",
       "    <tr>\n",
       "      <th>2</th>\n",
       "      <td>2</td>\n",
       "      <td>1</td>\n",
       "      <td>-73.979027</td>\n",
       "      <td>40.763939</td>\n",
       "      <td>-74.005333</td>\n",
       "      <td>40.710087</td>\n",
       "      <td>N</td>\n",
       "      <td>2124</td>\n",
       "      <td>2016</td>\n",
       "      <td>1</td>\n",
       "      <td>...</td>\n",
       "      <td>2</td>\n",
       "      <td>1453174524</td>\n",
       "      <td>2016</td>\n",
       "      <td>1</td>\n",
       "      <td>19</td>\n",
       "      <td>12</td>\n",
       "      <td>10</td>\n",
       "      <td>48</td>\n",
       "      <td>2</td>\n",
       "      <td>1453176648</td>\n",
       "    </tr>\n",
       "    <tr>\n",
       "      <th>3</th>\n",
       "      <td>2</td>\n",
       "      <td>1</td>\n",
       "      <td>-74.010040</td>\n",
       "      <td>40.719971</td>\n",
       "      <td>-74.012268</td>\n",
       "      <td>40.706718</td>\n",
       "      <td>N</td>\n",
       "      <td>429</td>\n",
       "      <td>2016</td>\n",
       "      <td>4</td>\n",
       "      <td>...</td>\n",
       "      <td>3</td>\n",
       "      <td>1459942351</td>\n",
       "      <td>2016</td>\n",
       "      <td>4</td>\n",
       "      <td>6</td>\n",
       "      <td>19</td>\n",
       "      <td>39</td>\n",
       "      <td>40</td>\n",
       "      <td>3</td>\n",
       "      <td>1459942780</td>\n",
       "    </tr>\n",
       "    <tr>\n",
       "      <th>4</th>\n",
       "      <td>2</td>\n",
       "      <td>1</td>\n",
       "      <td>-73.973053</td>\n",
       "      <td>40.793209</td>\n",
       "      <td>-73.972923</td>\n",
       "      <td>40.782520</td>\n",
       "      <td>N</td>\n",
       "      <td>435</td>\n",
       "      <td>2016</td>\n",
       "      <td>3</td>\n",
       "      <td>...</td>\n",
       "      <td>6</td>\n",
       "      <td>1458970255</td>\n",
       "      <td>2016</td>\n",
       "      <td>3</td>\n",
       "      <td>26</td>\n",
       "      <td>13</td>\n",
       "      <td>38</td>\n",
       "      <td>10</td>\n",
       "      <td>6</td>\n",
       "      <td>1458970690</td>\n",
       "    </tr>\n",
       "  </tbody>\n",
       "</table>\n",
       "<p>5 rows × 24 columns</p>\n",
       "</div>"
      ],
      "text/plain": [
       "   vendor_id  passenger_count  pickup_longitude  pickup_latitude  \\\n",
       "0          2                1        -73.982155        40.767937   \n",
       "1          1                1        -73.980415        40.738564   \n",
       "2          2                1        -73.979027        40.763939   \n",
       "3          2                1        -74.010040        40.719971   \n",
       "4          2                1        -73.973053        40.793209   \n",
       "\n",
       "   dropoff_longitude  dropoff_latitude store_and_fwd_flag  trip_duration  \\\n",
       "0         -73.964630         40.765602                  N            455   \n",
       "1         -73.999481         40.731152                  N            663   \n",
       "2         -74.005333         40.710087                  N           2124   \n",
       "3         -74.012268         40.706718                  N            429   \n",
       "4         -73.972923         40.782520                  N            435   \n",
       "\n",
       "   pickup_year  pickup_month        ...          pickup_weekday  \\\n",
       "0         2016             3        ...                       1   \n",
       "1         2016             6        ...                       7   \n",
       "2         2016             1        ...                       2   \n",
       "3         2016             4        ...                       3   \n",
       "4         2016             3        ...                       6   \n",
       "\n",
       "   pickup_timestamp  dropoff_year  dropoff_month  dropoff_day  dropoff_hour  \\\n",
       "0        1457947495          2016              3           14            17   \n",
       "1        1465663415          2016              6           12             0   \n",
       "2        1453174524          2016              1           19            12   \n",
       "3        1459942351          2016              4            6            19   \n",
       "4        1458970255          2016              3           26            13   \n",
       "\n",
       "   dropoff_minute  dropoff_second  dropoff_weekday  dropoff_timestamp  \n",
       "0              32              30                1         1457947950  \n",
       "1              54              38                7         1465664078  \n",
       "2              10              48                2         1453176648  \n",
       "3              39              40                3         1459942780  \n",
       "4              38              10                6         1458970690  \n",
       "\n",
       "[5 rows x 24 columns]"
      ]
     },
     "execution_count": 12,
     "metadata": {},
     "output_type": "execute_result"
    }
   ],
   "source": [
    "# Remove datetime (str)\n",
    "df.__delitem__('pickup_datetime')\n",
    "df.__delitem__('dropoff_datetime')\n",
    "df.head()"
   ]
  },
  {
   "cell_type": "markdown",
   "metadata": {},
   "source": [
    "**3.4 Check year**"
   ]
  },
  {
   "cell_type": "code",
   "execution_count": 24,
   "metadata": {},
   "outputs": [
    {
     "name": "stdout",
     "output_type": "stream",
     "text": [
      "[2016] [2016]\n"
     ]
    }
   ],
   "source": [
    "print np.unique(df['pickup_year']), np.unique(df['dropoff_year'])"
   ]
  },
  {
   "cell_type": "code",
   "execution_count": 25,
   "metadata": {},
   "outputs": [
    {
     "data": {
      "text/html": [
       "<div>\n",
       "<style>\n",
       "    .dataframe thead tr:only-child th {\n",
       "        text-align: right;\n",
       "    }\n",
       "\n",
       "    .dataframe thead th {\n",
       "        text-align: left;\n",
       "    }\n",
       "\n",
       "    .dataframe tbody tr th {\n",
       "        vertical-align: top;\n",
       "    }\n",
       "</style>\n",
       "<table border=\"1\" class=\"dataframe\">\n",
       "  <thead>\n",
       "    <tr style=\"text-align: right;\">\n",
       "      <th></th>\n",
       "      <th>vendor_id</th>\n",
       "      <th>passenger_count</th>\n",
       "      <th>pickup_longitude</th>\n",
       "      <th>pickup_latitude</th>\n",
       "      <th>dropoff_longitude</th>\n",
       "      <th>dropoff_latitude</th>\n",
       "      <th>store_and_fwd_flag</th>\n",
       "      <th>trip_duration</th>\n",
       "      <th>pickup_month</th>\n",
       "      <th>pickup_day</th>\n",
       "      <th>...</th>\n",
       "      <th>pickup_second</th>\n",
       "      <th>pickup_weekday</th>\n",
       "      <th>pickup_timestamp</th>\n",
       "      <th>dropoff_month</th>\n",
       "      <th>dropoff_day</th>\n",
       "      <th>dropoff_hour</th>\n",
       "      <th>dropoff_minute</th>\n",
       "      <th>dropoff_second</th>\n",
       "      <th>dropoff_weekday</th>\n",
       "      <th>dropoff_timestamp</th>\n",
       "    </tr>\n",
       "  </thead>\n",
       "  <tbody>\n",
       "    <tr>\n",
       "      <th>0</th>\n",
       "      <td>2</td>\n",
       "      <td>1</td>\n",
       "      <td>-73.982155</td>\n",
       "      <td>40.767937</td>\n",
       "      <td>-73.964630</td>\n",
       "      <td>40.765602</td>\n",
       "      <td>N</td>\n",
       "      <td>455</td>\n",
       "      <td>3</td>\n",
       "      <td>14</td>\n",
       "      <td>...</td>\n",
       "      <td>55</td>\n",
       "      <td>1</td>\n",
       "      <td>1457947495</td>\n",
       "      <td>3</td>\n",
       "      <td>14</td>\n",
       "      <td>17</td>\n",
       "      <td>32</td>\n",
       "      <td>30</td>\n",
       "      <td>1</td>\n",
       "      <td>1457947950</td>\n",
       "    </tr>\n",
       "    <tr>\n",
       "      <th>1</th>\n",
       "      <td>1</td>\n",
       "      <td>1</td>\n",
       "      <td>-73.980415</td>\n",
       "      <td>40.738564</td>\n",
       "      <td>-73.999481</td>\n",
       "      <td>40.731152</td>\n",
       "      <td>N</td>\n",
       "      <td>663</td>\n",
       "      <td>6</td>\n",
       "      <td>12</td>\n",
       "      <td>...</td>\n",
       "      <td>35</td>\n",
       "      <td>7</td>\n",
       "      <td>1465663415</td>\n",
       "      <td>6</td>\n",
       "      <td>12</td>\n",
       "      <td>0</td>\n",
       "      <td>54</td>\n",
       "      <td>38</td>\n",
       "      <td>7</td>\n",
       "      <td>1465664078</td>\n",
       "    </tr>\n",
       "    <tr>\n",
       "      <th>2</th>\n",
       "      <td>2</td>\n",
       "      <td>1</td>\n",
       "      <td>-73.979027</td>\n",
       "      <td>40.763939</td>\n",
       "      <td>-74.005333</td>\n",
       "      <td>40.710087</td>\n",
       "      <td>N</td>\n",
       "      <td>2124</td>\n",
       "      <td>1</td>\n",
       "      <td>19</td>\n",
       "      <td>...</td>\n",
       "      <td>24</td>\n",
       "      <td>2</td>\n",
       "      <td>1453174524</td>\n",
       "      <td>1</td>\n",
       "      <td>19</td>\n",
       "      <td>12</td>\n",
       "      <td>10</td>\n",
       "      <td>48</td>\n",
       "      <td>2</td>\n",
       "      <td>1453176648</td>\n",
       "    </tr>\n",
       "    <tr>\n",
       "      <th>3</th>\n",
       "      <td>2</td>\n",
       "      <td>1</td>\n",
       "      <td>-74.010040</td>\n",
       "      <td>40.719971</td>\n",
       "      <td>-74.012268</td>\n",
       "      <td>40.706718</td>\n",
       "      <td>N</td>\n",
       "      <td>429</td>\n",
       "      <td>4</td>\n",
       "      <td>6</td>\n",
       "      <td>...</td>\n",
       "      <td>31</td>\n",
       "      <td>3</td>\n",
       "      <td>1459942351</td>\n",
       "      <td>4</td>\n",
       "      <td>6</td>\n",
       "      <td>19</td>\n",
       "      <td>39</td>\n",
       "      <td>40</td>\n",
       "      <td>3</td>\n",
       "      <td>1459942780</td>\n",
       "    </tr>\n",
       "    <tr>\n",
       "      <th>4</th>\n",
       "      <td>2</td>\n",
       "      <td>1</td>\n",
       "      <td>-73.973053</td>\n",
       "      <td>40.793209</td>\n",
       "      <td>-73.972923</td>\n",
       "      <td>40.782520</td>\n",
       "      <td>N</td>\n",
       "      <td>435</td>\n",
       "      <td>3</td>\n",
       "      <td>26</td>\n",
       "      <td>...</td>\n",
       "      <td>55</td>\n",
       "      <td>6</td>\n",
       "      <td>1458970255</td>\n",
       "      <td>3</td>\n",
       "      <td>26</td>\n",
       "      <td>13</td>\n",
       "      <td>38</td>\n",
       "      <td>10</td>\n",
       "      <td>6</td>\n",
       "      <td>1458970690</td>\n",
       "    </tr>\n",
       "  </tbody>\n",
       "</table>\n",
       "<p>5 rows × 22 columns</p>\n",
       "</div>"
      ],
      "text/plain": [
       "   vendor_id  passenger_count  pickup_longitude  pickup_latitude  \\\n",
       "0          2                1        -73.982155        40.767937   \n",
       "1          1                1        -73.980415        40.738564   \n",
       "2          2                1        -73.979027        40.763939   \n",
       "3          2                1        -74.010040        40.719971   \n",
       "4          2                1        -73.973053        40.793209   \n",
       "\n",
       "   dropoff_longitude  dropoff_latitude store_and_fwd_flag  trip_duration  \\\n",
       "0         -73.964630         40.765602                  N            455   \n",
       "1         -73.999481         40.731152                  N            663   \n",
       "2         -74.005333         40.710087                  N           2124   \n",
       "3         -74.012268         40.706718                  N            429   \n",
       "4         -73.972923         40.782520                  N            435   \n",
       "\n",
       "   pickup_month  pickup_day        ...          pickup_second  pickup_weekday  \\\n",
       "0             3          14        ...                     55               1   \n",
       "1             6          12        ...                     35               7   \n",
       "2             1          19        ...                     24               2   \n",
       "3             4           6        ...                     31               3   \n",
       "4             3          26        ...                     55               6   \n",
       "\n",
       "   pickup_timestamp  dropoff_month  dropoff_day  dropoff_hour  dropoff_minute  \\\n",
       "0        1457947495              3           14            17              32   \n",
       "1        1465663415              6           12             0              54   \n",
       "2        1453174524              1           19            12              10   \n",
       "3        1459942351              4            6            19              39   \n",
       "4        1458970255              3           26            13              38   \n",
       "\n",
       "   dropoff_second  dropoff_weekday  dropoff_timestamp  \n",
       "0              30                1         1457947950  \n",
       "1              38                7         1465664078  \n",
       "2              48                2         1453176648  \n",
       "3              40                3         1459942780  \n",
       "4              10                6         1458970690  \n",
       "\n",
       "[5 rows x 22 columns]"
      ]
     },
     "execution_count": 25,
     "metadata": {},
     "output_type": "execute_result"
    }
   ],
   "source": [
    "# Remove year\n",
    "df.__delitem__('pickup_year')\n",
    "df.__delitem__('dropoff_year')\n",
    "df.head()"
   ]
  },
  {
   "cell_type": "markdown",
   "metadata": {},
   "source": [
    "* Remove the year column, since they are all the same."
   ]
  },
  {
   "cell_type": "markdown",
   "metadata": {},
   "source": [
    "**3.5 Distribution of month, day, time**"
   ]
  },
  {
   "cell_type": "code",
   "execution_count": 52,
   "metadata": {
    "collapsed": true
   },
   "outputs": [],
   "source": [
    "# Working...."
   ]
  },
  {
   "cell_type": "markdown",
   "metadata": {},
   "source": [
    "**3.6 Cross-Check duration v.s. timestamp**"
   ]
  },
  {
   "cell_type": "code",
   "execution_count": 50,
   "metadata": {},
   "outputs": [
    {
     "data": {
      "image/png": "[encoded data removed]",
      "text/plain": [
       "<matplotlib.figure.Figure at 0x1048c60d0>"
      ]
     },
     "metadata": {},
     "output_type": "display_data"
    }
   ],
   "source": [
    "# Get values with array, float type\n",
    "x = df['trip_duration'].values.astype(float)\n",
    "y = (df['dropoff_timestamp']-df['pickup_timestamp']).values.astype(float)\n",
    "\n",
    "x_hr, x_day, y_day = x/60/60, x/60/60/24, y/60/60/24\n",
    "\n",
    "# Linear fit x-y\n",
    "pars = np.polyfit(x_day, y_day, deg=1)\n",
    "xf = np.linspace(0., max(x_day), 100)\n",
    "yf = np.poly1d(pars)(xf)\n",
    "\n",
    "# plot trip_duration distribution\n",
    "day_cut = 2\n",
    "fig = plt.figure(figsize=(16,5))\n",
    "fig.add_subplot(1, 2, 1)\n",
    "plt.hist( x_hr[ x_hr < day_cut*24 ], bins=50, log=True)\n",
    "plt.xlabel('trip_duration < %d days [hour]'%(day_cut), fontsize=18)\n",
    "plt.ylabel('log(trips)', fontsize=18)\n",
    "\n",
    "# plot fitted results\n",
    "fig.add_subplot(1, 2, 2)\n",
    "plt.plot( x_day, y_day, 'g*', xf, yf, 'r--', markersize=20)\n",
    "plt.xlabel('trip_duration [days]', fontsize=18)\n",
    "plt.ylabel('diff(dropoff, pickup) [days]', fontsize=18)\n",
    "plt.show()"
   ]
  },
  {
   "cell_type": "code",
   "execution_count": 59,
   "metadata": {},
   "outputs": [
    {
     "name": "stdout",
     "output_type": "stream",
     "text": [
      "Linear fit y = x*1.00 + -0.00 \n",
      "[NOTE] 4 trips are out of 2 days\n",
      "355003    1939736\n",
      "680594    2049578\n",
      "924150    2227612\n",
      "978383    3526282\n",
      "Name: trip_duration, dtype: int64\n"
     ]
    }
   ],
   "source": [
    "print 'Linear fit y = x*%.2f + %.2f '%( pars[0], pars[1])\n",
    "print '[NOTE] %d trips are out of %d days'%( len(x[ x > day_cut*24*60*60 ]), day_cut )\n",
    "print df.loc[df['trip_duration'] > day_cut*24*60*60 ]['trip_duration']"
   ]
  },
  {
   "cell_type": "markdown",
   "metadata": {},
   "source": [
    "* The duration in data is correct by comapring with timestamps between pickup & dropoff. The **fitted slope = 1**, **intercept = 0**. \n",
    "* There are **4 trips** having strange long duration. Need to check the distance v.s. duration, it can show if the duration in reasonable distance. Or the time clock was fogetten to closed. "
   ]
  },
  {
   "cell_type": "code",
   "execution_count": 53,
   "metadata": {
    "collapsed": true
   },
   "outputs": [],
   "source": [
    "# Working...."
   ]
  }
 ],
 "metadata": {
  "kernelspec": {
   "display_name": "Python 2",
   "language": "python",
   "name": "python2"
  },
  "language_info": {
   "codemirror_mode": {
    "name": "ipython",
    "version": 2
   },
   "file_extension": ".py",
   "mimetype": "text/x-python",
   "name": "python",
   "nbconvert_exporter": "python",
   "pygments_lexer": "ipython2",
   "version": "2.7.13"
  }
 },
 "nbformat": 4,
 "nbformat_minor": 2
}
