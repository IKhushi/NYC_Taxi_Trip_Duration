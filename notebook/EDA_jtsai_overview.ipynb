{
 "cells": [
  {
   "cell_type": "markdown",
   "metadata": {},
   "source": [
    "# Exploratory Data Analysis (EDA) - overview \n",
    "---\n",
    "* **Overview default data**\n",
    "<br />Use [train.csv](../data/train.csv) to do analysis, containing $1\\,458\\,644$ trips.\n",
    "\n",
    "| Name | Description | type | unit |\n",
    "| :----: | :---- | :----: | :----: | \n",
    "| id | a unique identifier for each trip | object |  |\n",
    "| vendor_id | a code indicating the provider associated with the trip record | int | |\n",
    "| pickup_datetime | date and time when the meter was engaged | object | |\n",
    "| dropoff_datetime | date and time when the meter was disengaged | object | |\n",
    "| passenger_count | the number of passengers in the vehicle (driver entered value) | int | people |\n",
    "| pickup_longitude | the longitude where the meter was engaged | float | degree |\n",
    "| pickup_latitude | the latitude where the meter was engaged | float | degree |\n",
    "| dropoff_longitude | the longitude where the meter was disengaged | float | degree | \n",
    "| dropoff_latitude | the latitude where the meter was disengaged | float | degree |\n",
    "| store_and_fwd_flag | This flag indicates whether the trip record was held in vehicle memory before sending to the vendor because the vehicle did not have a connection to the server - Y=store and forward; N=not a store and forward trip | object | |\n",
    "| trip_duration | duration of the trip | int | second |\n",
    "\n",
    "---\n",
    "## Import modules"
   ]
  },
  {
   "cell_type": "code",
   "execution_count": 1,
   "metadata": {
    "collapsed": true
   },
   "outputs": [],
   "source": [
    "import matplotlib\n",
    "import matplotlib.pyplot as plt\n",
    "import seaborn as sns\n",
    "import numpy as np\n",
    "import pandas as pd\n",
    "import string"
   ]
  },
  {
   "cell_type": "markdown",
   "metadata": {},
   "source": [
    "---\n",
    "## Load & check data"
   ]
  },
  {
   "cell_type": "code",
   "execution_count": 2,
   "metadata": {
    "collapsed": true
   },
   "outputs": [],
   "source": [
    "df = pd.read_csv('../data/train.csv')\n",
    "#df = pd.read_csv('../data/train_mini.scv')"
   ]
  },
  {
   "cell_type": "code",
   "execution_count": 3,
   "metadata": {},
   "outputs": [
    {
     "name": "stdout",
     "output_type": "stream",
     "text": [
      "<class 'pandas.core.frame.DataFrame'>\n",
      "RangeIndex: 1458644 entries, 0 to 1458643\n",
      "Data columns (total 11 columns):\n",
      "id                    1458644 non-null object\n",
      "vendor_id             1458644 non-null int64\n",
      "pickup_datetime       1458644 non-null object\n",
      "dropoff_datetime      1458644 non-null object\n",
      "passenger_count       1458644 non-null int64\n",
      "pickup_longitude      1458644 non-null float64\n",
      "pickup_latitude       1458644 non-null float64\n",
      "dropoff_longitude     1458644 non-null float64\n",
      "dropoff_latitude      1458644 non-null float64\n",
      "store_and_fwd_flag    1458644 non-null object\n",
      "trip_duration         1458644 non-null int64\n",
      "dtypes: float64(4), int64(3), object(4)\n",
      "memory usage: 122.4+ MB\n"
     ]
    }
   ],
   "source": [
    "df.info()"
   ]
  },
  {
   "cell_type": "code",
   "execution_count": 4,
   "metadata": {},
   "outputs": [
    {
     "data": {
      "text/html": [
       "<div>\n",
       "<style>\n",
       "    .dataframe thead tr:only-child th {\n",
       "        text-align: right;\n",
       "    }\n",
       "\n",
       "    .dataframe thead th {\n",
       "        text-align: left;\n",
       "    }\n",
       "\n",
       "    .dataframe tbody tr th {\n",
       "        vertical-align: top;\n",
       "    }\n",
       "</style>\n",
       "<table border=\"1\" class=\"dataframe\">\n",
       "  <thead>\n",
       "    <tr style=\"text-align: right;\">\n",
       "      <th></th>\n",
       "      <th>id</th>\n",
       "      <th>vendor_id</th>\n",
       "      <th>pickup_datetime</th>\n",
       "      <th>dropoff_datetime</th>\n",
       "      <th>passenger_count</th>\n",
       "      <th>pickup_longitude</th>\n",
       "      <th>pickup_latitude</th>\n",
       "      <th>dropoff_longitude</th>\n",
       "      <th>dropoff_latitude</th>\n",
       "      <th>store_and_fwd_flag</th>\n",
       "      <th>trip_duration</th>\n",
       "    </tr>\n",
       "  </thead>\n",
       "  <tbody>\n",
       "    <tr>\n",
       "      <th>0</th>\n",
       "      <td>id2875421</td>\n",
       "      <td>2</td>\n",
       "      <td>2016-03-14 17:24:55</td>\n",
       "      <td>2016-03-14 17:32:30</td>\n",
       "      <td>1</td>\n",
       "      <td>-73.982155</td>\n",
       "      <td>40.767937</td>\n",
       "      <td>-73.964630</td>\n",
       "      <td>40.765602</td>\n",
       "      <td>N</td>\n",
       "      <td>455</td>\n",
       "    </tr>\n",
       "    <tr>\n",
       "      <th>1</th>\n",
       "      <td>id2377394</td>\n",
       "      <td>1</td>\n",
       "      <td>2016-06-12 00:43:35</td>\n",
       "      <td>2016-06-12 00:54:38</td>\n",
       "      <td>1</td>\n",
       "      <td>-73.980415</td>\n",
       "      <td>40.738564</td>\n",
       "      <td>-73.999481</td>\n",
       "      <td>40.731152</td>\n",
       "      <td>N</td>\n",
       "      <td>663</td>\n",
       "    </tr>\n",
       "    <tr>\n",
       "      <th>2</th>\n",
       "      <td>id3858529</td>\n",
       "      <td>2</td>\n",
       "      <td>2016-01-19 11:35:24</td>\n",
       "      <td>2016-01-19 12:10:48</td>\n",
       "      <td>1</td>\n",
       "      <td>-73.979027</td>\n",
       "      <td>40.763939</td>\n",
       "      <td>-74.005333</td>\n",
       "      <td>40.710087</td>\n",
       "      <td>N</td>\n",
       "      <td>2124</td>\n",
       "    </tr>\n",
       "    <tr>\n",
       "      <th>3</th>\n",
       "      <td>id3504673</td>\n",
       "      <td>2</td>\n",
       "      <td>2016-04-06 19:32:31</td>\n",
       "      <td>2016-04-06 19:39:40</td>\n",
       "      <td>1</td>\n",
       "      <td>-74.010040</td>\n",
       "      <td>40.719971</td>\n",
       "      <td>-74.012268</td>\n",
       "      <td>40.706718</td>\n",
       "      <td>N</td>\n",
       "      <td>429</td>\n",
       "    </tr>\n",
       "    <tr>\n",
       "      <th>4</th>\n",
       "      <td>id2181028</td>\n",
       "      <td>2</td>\n",
       "      <td>2016-03-26 13:30:55</td>\n",
       "      <td>2016-03-26 13:38:10</td>\n",
       "      <td>1</td>\n",
       "      <td>-73.973053</td>\n",
       "      <td>40.793209</td>\n",
       "      <td>-73.972923</td>\n",
       "      <td>40.782520</td>\n",
       "      <td>N</td>\n",
       "      <td>435</td>\n",
       "    </tr>\n",
       "  </tbody>\n",
       "</table>\n",
       "</div>"
      ],
      "text/plain": [
       "          id  vendor_id      pickup_datetime     dropoff_datetime  \\\n",
       "0  id2875421          2  2016-03-14 17:24:55  2016-03-14 17:32:30   \n",
       "1  id2377394          1  2016-06-12 00:43:35  2016-06-12 00:54:38   \n",
       "2  id3858529          2  2016-01-19 11:35:24  2016-01-19 12:10:48   \n",
       "3  id3504673          2  2016-04-06 19:32:31  2016-04-06 19:39:40   \n",
       "4  id2181028          2  2016-03-26 13:30:55  2016-03-26 13:38:10   \n",
       "\n",
       "   passenger_count  pickup_longitude  pickup_latitude  dropoff_longitude  \\\n",
       "0                1        -73.982155        40.767937         -73.964630   \n",
       "1                1        -73.980415        40.738564         -73.999481   \n",
       "2                1        -73.979027        40.763939         -74.005333   \n",
       "3                1        -74.010040        40.719971         -74.012268   \n",
       "4                1        -73.973053        40.793209         -73.972923   \n",
       "\n",
       "   dropoff_latitude store_and_fwd_flag  trip_duration  \n",
       "0         40.765602                  N            455  \n",
       "1         40.731152                  N            663  \n",
       "2         40.710087                  N           2124  \n",
       "3         40.706718                  N            429  \n",
       "4         40.782520                  N            435  "
      ]
     },
     "execution_count": 4,
     "metadata": {},
     "output_type": "execute_result"
    }
   ],
   "source": [
    "df.head()"
   ]
  },
  {
   "cell_type": "markdown",
   "metadata": {},
   "source": [
    "---\n",
    "## Overview default variables\n",
    "### 1. Id\n",
    "A unique identifier for each trip."
   ]
  },
  {
   "cell_type": "code",
   "execution_count": 5,
   "metadata": {},
   "outputs": [
    {
     "name": "stdout",
     "output_type": "stream",
     "text": [
      "1458644\n"
     ]
    }
   ],
   "source": [
    "print len(df.id.unique())\n",
    "df.__delitem__('id')"
   ]
  },
  {
   "cell_type": "markdown",
   "metadata": {},
   "source": [
    "Currently, it seems not to have any special feature here. It's just a data label. So it is removed."
   ]
  },
  {
   "cell_type": "markdown",
   "metadata": {},
   "source": [
    "### 2. vendor_id\n",
    "A code indicating the provider associated with the trip record."
   ]
  },
  {
   "cell_type": "code",
   "execution_count": 6,
   "metadata": {},
   "outputs": [
    {
     "name": "stdout",
     "output_type": "stream",
     "text": [
      "Value types: [1 2]\n"
     ]
    }
   ],
   "source": [
    "types = np.sort(df.vendor_id.unique())\n",
    "print 'Value types:', types"
   ]
  },
  {
   "cell_type": "code",
   "execution_count": 7,
   "metadata": {},
   "outputs": [
    {
     "name": "stdout",
     "output_type": "stream",
     "text": [
      "2    780302\n",
      "1    678342\n",
      "Name: vendor_id, dtype: int64\n"
     ]
    }
   ],
   "source": [
    "sums = df.vendor_id.value_counts()\n",
    "print sums"
   ]
  },
  {
   "cell_type": "code",
   "execution_count": 8,
   "metadata": {},
   "outputs": [
    {
     "data": {
      "image/png": "[encoded data removed]",
      "text/plain": [
       "<matplotlib.figure.Figure at 0x11815de90>"
      ]
     },
     "metadata": {},
     "output_type": "display_data"
    }
   ],
   "source": [
    "X = df[['vendor_id']].values\n",
    "\n",
    "plt.figure(figsize=[9,7])\n",
    "plt.hist(X, bins=range(1,4))\n",
    "plt.xticks(types, ['vendor_id: '+str(i) for i in types], fontsize=20)\n",
    "plt.ylabel('Trips', size=20)\n",
    "plt.show()"
   ]
  },
  {
   "cell_type": "markdown",
   "metadata": {},
   "source": [
    "Only two vendor id exist in the data and with reasonable equal size."
   ]
  },
  {
   "cell_type": "markdown",
   "metadata": {},
   "source": [
    "### 3. pickup_datetime & dropoff_datetime\n",
    "Date and time when the meter was **engaged** & **disengaged**<br />\n",
    "**3.1. Check content type** "
   ]
  },
  {
   "cell_type": "code",
   "execution_count": 9,
   "metadata": {},
   "outputs": [
    {
     "name": "stdout",
     "output_type": "stream",
     "text": [
      "0    2016-03-14 17:24:55\n",
      "1    2016-06-12 00:43:35\n",
      "2    2016-01-19 11:35:24\n",
      "3    2016-04-06 19:32:31\n",
      "4    2016-03-26 13:30:55\n",
      "Name: pickup_datetime, dtype: object\n",
      "Value type : <type 'str'>\n"
     ]
    }
   ],
   "source": [
    "print df['pickup_datetime'][0:5]\n",
    "print 'Value type :', type(df['pickup_datetime'][0])"
   ]
  },
  {
   "cell_type": "markdown",
   "metadata": {},
   "source": [
    "**3.2. Define functions for extracting datetime** "
   ]
  },
  {
   "cell_type": "code",
   "execution_count": 10,
   "metadata": {
    "collapsed": true
   },
   "outputs": [],
   "source": [
    "import re, calendar, time, datetime\n",
    "\n",
    "### General function for creating/adding column\n",
    "def create_feature( dataframe, useColName, func, **kwds):\n",
    "    return dataframe[useColName].apply(func, **kwds)\n",
    "    \n",
    "def add_column( dataframe, newColName, column ):\n",
    "    df = dataframe.copy()\n",
    "    df[newColName] = column\n",
    "    return df\n",
    "\n",
    "### Extract datetime\n",
    "# Label the datetimes\n",
    "datetime_list,  datetime_dict = [ 'year', 'month', 'day', 'hour', 'minute', 'second'], {}\n",
    "for i, name in enumerate(datetime_list): datetime_dict[name] = i\n",
    "\n",
    "# Split datetime by space   \n",
    "def split_datetime(date_str):\n",
    "    # e.g. 2016-03-26 13:30:55 -> 2016 03 26 13 30 55 \n",
    "    datetime = re.sub(r'(.*)-(.*)-(.*) (.*):(.*):(.*)', r'\\1 \\2 \\3 \\4 \\5 \\6', date_str)\n",
    "    return datetime.split()\n",
    "\n",
    "# Get each datetime's value by label/index\n",
    "def get_datetime(date_str, idx, debug=False):\n",
    "    if type(idx) is str: \n",
    "        i = datetime_dict[idx]\n",
    "    else:\n",
    "        i = int(idx)\n",
    "    if debug: \n",
    "        print 'Input %s, output %d, %s'%(str(idx), i, datetime_list[i]) \n",
    "    return int(split_datetime(date_str)[i])\n",
    "\n",
    "# Other : Get each datetime's value\n",
    "def get_year(date_str):\n",
    "    return get_datetime(date_str, 'year')\n",
    "\n",
    "def get_month(date_str):\n",
    "    return get_datetime(date_str, 'month')\n",
    "\n",
    "def get_day(date_str):\n",
    "    return get_datetime(date_str, 'day')\n",
    "\n",
    "def get_hour(date_str):\n",
    "    return get_datetime(date_str, 'hour')\n",
    "\n",
    "def get_minute(date_str):\n",
    "    return get_datetime(date_str, 'minute')\n",
    "\n",
    "def get_second(date_str):\n",
    "    return get_datetime(date_str, 'second')\n",
    "\n",
    "def get_time(date_str):\n",
    "    return get_hour(date_str) + get_minute(date_str)/60. + get_second(date_str)/60./60.\n",
    "\n",
    "def get_weekday(date_str):\n",
    "    return datetime.date(get_year(date_str), get_month(date_str), get_day(date_str)).isoweekday() \n",
    "\n",
    "def get_timestamp(date_str):\n",
    "    return int(time.mktime(time.strptime(date_str, '%Y-%m-%d %H:%M:%S')))\n",
    "\n",
    "### For cross-check\n",
    "# get_datetime('2016-03-26 13:30:55', 2)\n",
    "# get_datetime('2016-03-26 13:30:55', 'year')\n",
    "#\n",
    "#import datetime\n",
    "#a = create_feature(df, 'pickup_datetime', get_timestamp )\n",
    "#print a[0]\n",
    "#print datetime.datetime.fromtimestamp(int(a[0]))\n",
    "#print df['pickup_datetime'][0]"
   ]
  },
  {
   "cell_type": "markdown",
   "metadata": {},
   "source": [
    "**3.3. Add/remove columns to/from dataframe** "
   ]
  },
  {
   "cell_type": "code",
   "execution_count": 11,
   "metadata": {},
   "outputs": [
    {
     "name": "stdout",
     "output_type": "stream",
     "text": [
      "Extracting pickup_datetime....\n",
      "Done : 244.201351881 sec.\n",
      "Extracting dropoff_datetime....\n",
      "Done : 245.242553949 sec.\n"
     ]
    }
   ],
   "source": [
    "for situation in ['pickup', 'dropoff']:\n",
    "    # Record execution time\n",
    "    start_time = time.time()\n",
    "    print 'Extracting '+situation+'_datetime....'\n",
    "    \n",
    "    # Add year\n",
    "    newcol = create_feature(df, situation+'_datetime', get_datetime, idx='year')\n",
    "    df = add_column(df, situation+'_year', newcol)\n",
    "    \n",
    "    # Add month\n",
    "    newcol = create_feature(df, situation+'_datetime', get_datetime, idx='month')\n",
    "    df = add_column(df, situation+'_month', newcol)\n",
    "    \n",
    "    # Add day\n",
    "    newcol = create_feature(df, situation+'_datetime', get_datetime, idx='day')\n",
    "    df = add_column(df, situation+'_day', newcol)\n",
    "    \n",
    "    # Add time\n",
    "    newcol = create_feature(df, situation+'_datetime', get_time)\n",
    "    df = add_column(df, situation+'_time', newcol)\n",
    "        \n",
    "    # Add weekday\n",
    "    newcol = create_feature(df, situation+'_datetime', get_weekday)\n",
    "    df = add_column(df, situation+'_weekday', newcol)\n",
    "\n",
    "    # Add timestamp\n",
    "    newcol = create_feature(df, situation+'_datetime', get_timestamp)\n",
    "    df = add_column(df, situation+'_timestamp', newcol)\n",
    "    \n",
    "    ## Add splitted datetime columns\n",
    "    #for i, name in enumerate(datetime_list):\n",
    "    #    newcol = create_feature(df, situation+'_datetime', get_datetime, idx=i)\n",
    "    #    df = add_column(df, situation+'_'+name, newcol)\n",
    "    \n",
    "    print 'Done : %s sec.'% str(time.time() - start_time)"
   ]
  },
  {
   "cell_type": "code",
   "execution_count": 12,
   "metadata": {},
   "outputs": [
    {
     "data": {
      "text/html": [
       "<div>\n",
       "<style>\n",
       "    .dataframe thead tr:only-child th {\n",
       "        text-align: right;\n",
       "    }\n",
       "\n",
       "    .dataframe thead th {\n",
       "        text-align: left;\n",
       "    }\n",
       "\n",
       "    .dataframe tbody tr th {\n",
       "        vertical-align: top;\n",
       "    }\n",
       "</style>\n",
       "<table border=\"1\" class=\"dataframe\">\n",
       "  <thead>\n",
       "    <tr style=\"text-align: right;\">\n",
       "      <th></th>\n",
       "      <th>vendor_id</th>\n",
       "      <th>passenger_count</th>\n",
       "      <th>pickup_longitude</th>\n",
       "      <th>pickup_latitude</th>\n",
       "      <th>dropoff_longitude</th>\n",
       "      <th>dropoff_latitude</th>\n",
       "      <th>store_and_fwd_flag</th>\n",
       "      <th>trip_duration</th>\n",
       "      <th>pickup_year</th>\n",
       "      <th>pickup_month</th>\n",
       "      <th>pickup_day</th>\n",
       "      <th>pickup_time</th>\n",
       "      <th>pickup_weekday</th>\n",
       "      <th>pickup_timestamp</th>\n",
       "      <th>dropoff_year</th>\n",
       "      <th>dropoff_month</th>\n",
       "      <th>dropoff_day</th>\n",
       "      <th>dropoff_time</th>\n",
       "      <th>dropoff_weekday</th>\n",
       "      <th>dropoff_timestamp</th>\n",
       "    </tr>\n",
       "  </thead>\n",
       "  <tbody>\n",
       "    <tr>\n",
       "      <th>0</th>\n",
       "      <td>2</td>\n",
       "      <td>1</td>\n",
       "      <td>-73.982155</td>\n",
       "      <td>40.767937</td>\n",
       "      <td>-73.964630</td>\n",
       "      <td>40.765602</td>\n",
       "      <td>N</td>\n",
       "      <td>455</td>\n",
       "      <td>2016</td>\n",
       "      <td>3</td>\n",
       "      <td>14</td>\n",
       "      <td>17.415278</td>\n",
       "      <td>1</td>\n",
       "      <td>1457947495</td>\n",
       "      <td>2016</td>\n",
       "      <td>3</td>\n",
       "      <td>14</td>\n",
       "      <td>17.541667</td>\n",
       "      <td>1</td>\n",
       "      <td>1457947950</td>\n",
       "    </tr>\n",
       "    <tr>\n",
       "      <th>1</th>\n",
       "      <td>1</td>\n",
       "      <td>1</td>\n",
       "      <td>-73.980415</td>\n",
       "      <td>40.738564</td>\n",
       "      <td>-73.999481</td>\n",
       "      <td>40.731152</td>\n",
       "      <td>N</td>\n",
       "      <td>663</td>\n",
       "      <td>2016</td>\n",
       "      <td>6</td>\n",
       "      <td>12</td>\n",
       "      <td>0.726389</td>\n",
       "      <td>7</td>\n",
       "      <td>1465663415</td>\n",
       "      <td>2016</td>\n",
       "      <td>6</td>\n",
       "      <td>12</td>\n",
       "      <td>0.910556</td>\n",
       "      <td>7</td>\n",
       "      <td>1465664078</td>\n",
       "    </tr>\n",
       "    <tr>\n",
       "      <th>2</th>\n",
       "      <td>2</td>\n",
       "      <td>1</td>\n",
       "      <td>-73.979027</td>\n",
       "      <td>40.763939</td>\n",
       "      <td>-74.005333</td>\n",
       "      <td>40.710087</td>\n",
       "      <td>N</td>\n",
       "      <td>2124</td>\n",
       "      <td>2016</td>\n",
       "      <td>1</td>\n",
       "      <td>19</td>\n",
       "      <td>11.590000</td>\n",
       "      <td>2</td>\n",
       "      <td>1453174524</td>\n",
       "      <td>2016</td>\n",
       "      <td>1</td>\n",
       "      <td>19</td>\n",
       "      <td>12.180000</td>\n",
       "      <td>2</td>\n",
       "      <td>1453176648</td>\n",
       "    </tr>\n",
       "    <tr>\n",
       "      <th>3</th>\n",
       "      <td>2</td>\n",
       "      <td>1</td>\n",
       "      <td>-74.010040</td>\n",
       "      <td>40.719971</td>\n",
       "      <td>-74.012268</td>\n",
       "      <td>40.706718</td>\n",
       "      <td>N</td>\n",
       "      <td>429</td>\n",
       "      <td>2016</td>\n",
       "      <td>4</td>\n",
       "      <td>6</td>\n",
       "      <td>19.541944</td>\n",
       "      <td>3</td>\n",
       "      <td>1459942351</td>\n",
       "      <td>2016</td>\n",
       "      <td>4</td>\n",
       "      <td>6</td>\n",
       "      <td>19.661111</td>\n",
       "      <td>3</td>\n",
       "      <td>1459942780</td>\n",
       "    </tr>\n",
       "    <tr>\n",
       "      <th>4</th>\n",
       "      <td>2</td>\n",
       "      <td>1</td>\n",
       "      <td>-73.973053</td>\n",
       "      <td>40.793209</td>\n",
       "      <td>-73.972923</td>\n",
       "      <td>40.782520</td>\n",
       "      <td>N</td>\n",
       "      <td>435</td>\n",
       "      <td>2016</td>\n",
       "      <td>3</td>\n",
       "      <td>26</td>\n",
       "      <td>13.515278</td>\n",
       "      <td>6</td>\n",
       "      <td>1458970255</td>\n",
       "      <td>2016</td>\n",
       "      <td>3</td>\n",
       "      <td>26</td>\n",
       "      <td>13.636111</td>\n",
       "      <td>6</td>\n",
       "      <td>1458970690</td>\n",
       "    </tr>\n",
       "  </tbody>\n",
       "</table>\n",
       "</div>"
      ],
      "text/plain": [
       "   vendor_id  passenger_count  pickup_longitude  pickup_latitude  \\\n",
       "0          2                1        -73.982155        40.767937   \n",
       "1          1                1        -73.980415        40.738564   \n",
       "2          2                1        -73.979027        40.763939   \n",
       "3          2                1        -74.010040        40.719971   \n",
       "4          2                1        -73.973053        40.793209   \n",
       "\n",
       "   dropoff_longitude  dropoff_latitude store_and_fwd_flag  trip_duration  \\\n",
       "0         -73.964630         40.765602                  N            455   \n",
       "1         -73.999481         40.731152                  N            663   \n",
       "2         -74.005333         40.710087                  N           2124   \n",
       "3         -74.012268         40.706718                  N            429   \n",
       "4         -73.972923         40.782520                  N            435   \n",
       "\n",
       "   pickup_year  pickup_month  pickup_day  pickup_time  pickup_weekday  \\\n",
       "0         2016             3          14    17.415278               1   \n",
       "1         2016             6          12     0.726389               7   \n",
       "2         2016             1          19    11.590000               2   \n",
       "3         2016             4           6    19.541944               3   \n",
       "4         2016             3          26    13.515278               6   \n",
       "\n",
       "   pickup_timestamp  dropoff_year  dropoff_month  dropoff_day  dropoff_time  \\\n",
       "0        1457947495          2016              3           14     17.541667   \n",
       "1        1465663415          2016              6           12      0.910556   \n",
       "2        1453174524          2016              1           19     12.180000   \n",
       "3        1459942351          2016              4            6     19.661111   \n",
       "4        1458970255          2016              3           26     13.636111   \n",
       "\n",
       "   dropoff_weekday  dropoff_timestamp  \n",
       "0                1         1457947950  \n",
       "1                7         1465664078  \n",
       "2                2         1453176648  \n",
       "3                3         1459942780  \n",
       "4                6         1458970690  "
      ]
     },
     "execution_count": 12,
     "metadata": {},
     "output_type": "execute_result"
    }
   ],
   "source": [
    "# Remove datetime (str)\n",
    "df.__delitem__('pickup_datetime')\n",
    "df.__delitem__('dropoff_datetime')\n",
    "df.head()"
   ]
  },
  {
   "cell_type": "markdown",
   "metadata": {},
   "source": [
    "**3.4 Check year**"
   ]
  },
  {
   "cell_type": "code",
   "execution_count": 13,
   "metadata": {},
   "outputs": [
    {
     "name": "stdout",
     "output_type": "stream",
     "text": [
      "[2016] [2016]\n"
     ]
    }
   ],
   "source": [
    "print np.unique(df['pickup_year']), np.unique(df['dropoff_year'])"
   ]
  },
  {
   "cell_type": "code",
   "execution_count": 14,
   "metadata": {},
   "outputs": [],
   "source": [
    "# Remove year\n",
    "df.__delitem__('pickup_year')\n",
    "df.__delitem__('dropoff_year')\n",
    "df.head()\n",
    "df.to_csv('../data/train_timefixed.csv', index=False)"
   ]
  },
  {
   "cell_type": "markdown",
   "metadata": {},
   "source": [
    "* Remove the year column, since they are all the same."
   ]
  },
  {
   "cell_type": "code",
   "execution_count": 15,
   "metadata": {},
   "outputs": [],
   "source": [
    "df = pd.read_csv('../data/train_timefixed.csv')\n",
    "#df.head()"
   ]
  },
  {
   "cell_type": "markdown",
   "metadata": {},
   "source": [
    "**3.5 Distribution of month, day, time, weekday**"
   ]
  },
  {
   "cell_type": "code",
   "execution_count": 16,
   "metadata": {},
   "outputs": [
    {
     "data": {
      "image/png": "[encoded data removed]",
      "text/plain": [
       "<matplotlib.figure.Figure at 0x118324210>"
      ]
     },
     "metadata": {},
     "output_type": "display_data"
    }
   ],
   "source": [
    "nomalize=1000 # tirps\n",
    "fig, ax = plt.subplots(ncols=3, sharey=False)\n",
    "fig.set_size_inches(20,6)\n",
    "for i, name in enumerate(['month', 'day', 'weekday']):\n",
    "    ax[i].plot(df.groupby('pickup_'+name).count()['vendor_id']/nomalize,  'r-*',  markersize=15,  label='Pickup')\n",
    "    ax[i].plot(df.groupby('dropoff_'+name).count()['vendor_id']/nomalize, 'b--o', markersize=10, label='Dropoff')\n",
    "    ax[i].legend(loc='lower center', fontsize=18)\n",
    "    ax[i].tick_params(labelsize=13)\n",
    "    ax[i].set_xlabel( name, fontsize=18)\n",
    "    if i is 0: \n",
    "        ax[i].set_ylabel('Trips (x%d)'%nomalize, fontsize=18)\n",
    "plt.show()"
   ]
  },
  {
   "cell_type": "code",
   "execution_count": 17,
   "metadata": {},
   "outputs": [
    {
     "data": {
      "image/png": "[encoded data removed]",
      "text/plain": [
       "<matplotlib.figure.Figure at 0x118ae6810>"
      ]
     },
     "metadata": {},
     "output_type": "display_data"
    },
    {
     "data": {
      "text/html": [
       "<div>\n",
       "<style>\n",
       "    .dataframe thead tr:only-child th {\n",
       "        text-align: right;\n",
       "    }\n",
       "\n",
       "    .dataframe thead th {\n",
       "        text-align: left;\n",
       "    }\n",
       "\n",
       "    .dataframe tbody tr th {\n",
       "        vertical-align: top;\n",
       "    }\n",
       "</style>\n",
       "<table border=\"1\" class=\"dataframe\">\n",
       "  <thead>\n",
       "    <tr style=\"text-align: right;\">\n",
       "      <th></th>\n",
       "      <th>0</th>\n",
       "      <th>1</th>\n",
       "      <th>2</th>\n",
       "      <th>3</th>\n",
       "      <th>4</th>\n",
       "      <th>5</th>\n",
       "      <th>6</th>\n",
       "      <th>7</th>\n",
       "      <th>8</th>\n",
       "      <th>9</th>\n",
       "      <th>...</th>\n",
       "      <th>14</th>\n",
       "      <th>15</th>\n",
       "      <th>16</th>\n",
       "      <th>17</th>\n",
       "      <th>18</th>\n",
       "      <th>19</th>\n",
       "      <th>20</th>\n",
       "      <th>21</th>\n",
       "      <th>22</th>\n",
       "      <th>23</th>\n",
       "    </tr>\n",
       "  </thead>\n",
       "  <tbody>\n",
       "    <tr>\n",
       "      <th>Pickup</th>\n",
       "      <td>53248</td>\n",
       "      <td>38571</td>\n",
       "      <td>27972</td>\n",
       "      <td>20895</td>\n",
       "      <td>15792</td>\n",
       "      <td>15002</td>\n",
       "      <td>33248</td>\n",
       "      <td>55600</td>\n",
       "      <td>67053</td>\n",
       "      <td>67663</td>\n",
       "      <td>...</td>\n",
       "      <td>74292</td>\n",
       "      <td>71811</td>\n",
       "      <td>64313</td>\n",
       "      <td>76483</td>\n",
       "      <td>90600</td>\n",
       "      <td>90308</td>\n",
       "      <td>84072</td>\n",
       "      <td>84185</td>\n",
       "      <td>80492</td>\n",
       "      <td>69785</td>\n",
       "    </tr>\n",
       "    <tr>\n",
       "      <th>Dropoff</th>\n",
       "      <td>57811</td>\n",
       "      <td>41760</td>\n",
       "      <td>29845</td>\n",
       "      <td>22086</td>\n",
       "      <td>17037</td>\n",
       "      <td>14038</td>\n",
       "      <td>29234</td>\n",
       "      <td>49939</td>\n",
       "      <td>64105</td>\n",
       "      <td>67527</td>\n",
       "      <td>...</td>\n",
       "      <td>72390</td>\n",
       "      <td>73109</td>\n",
       "      <td>65917</td>\n",
       "      <td>72020</td>\n",
       "      <td>89588</td>\n",
       "      <td>93431</td>\n",
       "      <td>85337</td>\n",
       "      <td>83619</td>\n",
       "      <td>81568</td>\n",
       "      <td>72596</td>\n",
       "    </tr>\n",
       "  </tbody>\n",
       "</table>\n",
       "<p>2 rows × 24 columns</p>\n",
       "</div>"
      ],
      "text/plain": [
       "            0      1      2      3      4      5      6      7      8      9   \\\n",
       "Pickup   53248  38571  27972  20895  15792  15002  33248  55600  67053  67663   \n",
       "Dropoff  57811  41760  29845  22086  17037  14038  29234  49939  64105  67527   \n",
       "\n",
       "         ...       14     15     16     17     18     19     20     21     22  \\\n",
       "Pickup   ...    74292  71811  64313  76483  90600  90308  84072  84185  80492   \n",
       "Dropoff  ...    72390  73109  65917  72020  89588  93431  85337  83619  81568   \n",
       "\n",
       "            23  \n",
       "Pickup   69785  \n",
       "Dropoff  72596  \n",
       "\n",
       "[2 rows x 24 columns]"
      ]
     },
     "execution_count": 17,
     "metadata": {},
     "output_type": "execute_result"
    }
   ],
   "source": [
    "plt.figure(figsize=(20,6))\n",
    "n_pick, b_pick, p_pick = plt.hist(df['pickup_time'],  bins=24, histtype='step', color='r', linewidth=2, label='Pickup' )\n",
    "n_drop, b_drop, p_drop = plt.hist(df['dropoff_time'], bins=24, histtype='step', color='b', linewidth=2, label='Dropoff')\n",
    "plt.tick_params(labelsize=20)\n",
    "plt.xticks(range(0,25,1))\n",
    "plt.xlabel(\"Day time (o'clock)\", fontsize=25)\n",
    "plt.ylabel('Trips', fontsize=25)\n",
    "plt.legend(loc='upper left', fontsize=25)\n",
    "plt.show()\n",
    "\n",
    "df_trips_daytime = pd.DataFrame(data=[n_pick.astype(int), n_drop.astype(int)], columns=range(0,24,1), index=['Pickup','Dropoff'])\n",
    "df_trips_daytime.head() "
   ]
  },
  {
   "cell_type": "markdown",
   "metadata": {},
   "source": [
    "* Data has only **6 months** records. Each Month has about **common trip yields**. July is only recorded in dropoff, i.e. the pickup time is midnight of 30th June.\n",
    "* Day can be said it has **common trip yields**, except of the falling in 23 which has be known in Yen's analysis. 31 has big falling, since only 5 month has 31.\n",
    "* Weekday shows the taxi usage increases slowly to the maximum (**Friday**) and decreases quickly to **Monday** again.\n",
    "* Day time show the high texi usage is after work (**18hr**). The trips rate decrease after midnight.  \n",
    "* Apperently, the **weekday** and **day time** may can be used for training, since they have own probabilty distribution of trips. But they has to be check the correlation with duration."
   ]
  },
  {
   "cell_type": "markdown",
   "metadata": {},
   "source": [
    "**3.6 Cross-Check duration v.s. timestamp**"
   ]
  },
  {
   "cell_type": "code",
   "execution_count": 18,
   "metadata": {},
   "outputs": [
    {
     "data": {
      "image/png": "[encoded data removed]",
      "text/plain": [
       "<matplotlib.figure.Figure at 0x1187167d0>"
      ]
     },
     "metadata": {},
     "output_type": "display_data"
    }
   ],
   "source": [
    "# Get values with array, float type\n",
    "x = df['trip_duration'].values.astype(float)\n",
    "y = (df['dropoff_timestamp']-df['pickup_timestamp']).values.astype(float)\n",
    "\n",
    "x_hr, x_day, y_day = x/60/60, x/60/60/24, y/60/60/24\n",
    "\n",
    "# Linear fit x-y\n",
    "pars = np.polyfit(x_day, y_day, deg=1)\n",
    "xf = np.linspace(0., max(x_day), 100)\n",
    "yf = np.poly1d(pars)(xf)\n",
    "\n",
    "# plot trip_duration distribution\n",
    "day_cut = 2\n",
    "fig = plt.figure(figsize=(16,5))\n",
    "fig.add_subplot(1, 2, 1)\n",
    "plt.hist( x_hr[ x_hr < day_cut*24 ], bins=50, log=True)\n",
    "plt.xlabel('Duration < %d days [hour]'%(day_cut), fontsize=18)\n",
    "plt.ylabel('Trips', fontsize=18)\n",
    "\n",
    "# plot fitted results\n",
    "fig.add_subplot(1, 2, 2)\n",
    "plt.plot( x_day, y_day, 'g*', xf, yf, 'r--', markersize=20)\n",
    "plt.xlabel('Duration [days]', fontsize=18)\n",
    "plt.ylabel('diff(dropoff, pickup) [days]', fontsize=18)\n",
    "plt.show()"
   ]
  },
  {
   "cell_type": "code",
   "execution_count": 19,
   "metadata": {},
   "outputs": [
    {
     "name": "stdout",
     "output_type": "stream",
     "text": [
      "Linear fit y = x*1.00 + -0.00 \n",
      "[NOTE] 4 trips are out of 2 days\n",
      "355003    1939736\n",
      "680594    2049578\n",
      "924150    2227612\n",
      "978383    3526282\n",
      "Name: trip_duration, dtype: int64\n"
     ]
    },
    {
     "data": {
      "text/html": [
       "<div>\n",
       "<style>\n",
       "    .dataframe thead tr:only-child th {\n",
       "        text-align: right;\n",
       "    }\n",
       "\n",
       "    .dataframe thead th {\n",
       "        text-align: left;\n",
       "    }\n",
       "\n",
       "    .dataframe tbody tr th {\n",
       "        vertical-align: top;\n",
       "    }\n",
       "</style>\n",
       "<table border=\"1\" class=\"dataframe\">\n",
       "  <thead>\n",
       "    <tr style=\"text-align: right;\">\n",
       "      <th></th>\n",
       "      <th>vendor_id</th>\n",
       "      <th>passenger_count</th>\n",
       "      <th>pickup_longitude</th>\n",
       "      <th>pickup_latitude</th>\n",
       "      <th>dropoff_longitude</th>\n",
       "      <th>dropoff_latitude</th>\n",
       "      <th>store_and_fwd_flag</th>\n",
       "      <th>trip_duration</th>\n",
       "      <th>pickup_month</th>\n",
       "      <th>pickup_day</th>\n",
       "      <th>pickup_time</th>\n",
       "      <th>pickup_weekday</th>\n",
       "      <th>pickup_timestamp</th>\n",
       "      <th>dropoff_month</th>\n",
       "      <th>dropoff_day</th>\n",
       "      <th>dropoff_time</th>\n",
       "      <th>dropoff_weekday</th>\n",
       "      <th>dropoff_timestamp</th>\n",
       "    </tr>\n",
       "  </thead>\n",
       "  <tbody>\n",
       "    <tr>\n",
       "      <th>355003</th>\n",
       "      <td>1</td>\n",
       "      <td>1</td>\n",
       "      <td>-73.789650</td>\n",
       "      <td>40.643559</td>\n",
       "      <td>-73.956810</td>\n",
       "      <td>40.773087</td>\n",
       "      <td>N</td>\n",
       "      <td>1939736</td>\n",
       "      <td>1</td>\n",
       "      <td>5</td>\n",
       "      <td>0.328333</td>\n",
       "      <td>2</td>\n",
       "      <td>1451924382</td>\n",
       "      <td>1</td>\n",
       "      <td>27</td>\n",
       "      <td>11.143889</td>\n",
       "      <td>3</td>\n",
       "      <td>1453864118</td>\n",
       "    </tr>\n",
       "    <tr>\n",
       "      <th>680594</th>\n",
       "      <td>1</td>\n",
       "      <td>2</td>\n",
       "      <td>-73.921677</td>\n",
       "      <td>40.735252</td>\n",
       "      <td>-73.984749</td>\n",
       "      <td>40.759979</td>\n",
       "      <td>N</td>\n",
       "      <td>2049578</td>\n",
       "      <td>2</td>\n",
       "      <td>13</td>\n",
       "      <td>22.633333</td>\n",
       "      <td>6</td>\n",
       "      <td>1455374280</td>\n",
       "      <td>3</td>\n",
       "      <td>8</td>\n",
       "      <td>15.960556</td>\n",
       "      <td>2</td>\n",
       "      <td>1457423858</td>\n",
       "    </tr>\n",
       "    <tr>\n",
       "      <th>924150</th>\n",
       "      <td>1</td>\n",
       "      <td>1</td>\n",
       "      <td>-73.983788</td>\n",
       "      <td>40.742325</td>\n",
       "      <td>-73.985489</td>\n",
       "      <td>40.727676</td>\n",
       "      <td>N</td>\n",
       "      <td>2227612</td>\n",
       "      <td>1</td>\n",
       "      <td>5</td>\n",
       "      <td>6.237500</td>\n",
       "      <td>2</td>\n",
       "      <td>1451945655</td>\n",
       "      <td>1</td>\n",
       "      <td>31</td>\n",
       "      <td>1.018611</td>\n",
       "      <td>7</td>\n",
       "      <td>1454173267</td>\n",
       "    </tr>\n",
       "    <tr>\n",
       "      <th>978383</th>\n",
       "      <td>1</td>\n",
       "      <td>1</td>\n",
       "      <td>-73.783905</td>\n",
       "      <td>40.648632</td>\n",
       "      <td>-73.978271</td>\n",
       "      <td>40.750202</td>\n",
       "      <td>N</td>\n",
       "      <td>3526282</td>\n",
       "      <td>2</td>\n",
       "      <td>13</td>\n",
       "      <td>22.781111</td>\n",
       "      <td>6</td>\n",
       "      <td>1455374812</td>\n",
       "      <td>3</td>\n",
       "      <td>25</td>\n",
       "      <td>18.303889</td>\n",
       "      <td>5</td>\n",
       "      <td>1458901094</td>\n",
       "    </tr>\n",
       "  </tbody>\n",
       "</table>\n",
       "</div>"
      ],
      "text/plain": [
       "        vendor_id  passenger_count  pickup_longitude  pickup_latitude  \\\n",
       "355003          1                1        -73.789650        40.643559   \n",
       "680594          1                2        -73.921677        40.735252   \n",
       "924150          1                1        -73.983788        40.742325   \n",
       "978383          1                1        -73.783905        40.648632   \n",
       "\n",
       "        dropoff_longitude  dropoff_latitude store_and_fwd_flag  trip_duration  \\\n",
       "355003         -73.956810         40.773087                  N        1939736   \n",
       "680594         -73.984749         40.759979                  N        2049578   \n",
       "924150         -73.985489         40.727676                  N        2227612   \n",
       "978383         -73.978271         40.750202                  N        3526282   \n",
       "\n",
       "        pickup_month  pickup_day  pickup_time  pickup_weekday  \\\n",
       "355003             1           5     0.328333               2   \n",
       "680594             2          13    22.633333               6   \n",
       "924150             1           5     6.237500               2   \n",
       "978383             2          13    22.781111               6   \n",
       "\n",
       "        pickup_timestamp  dropoff_month  dropoff_day  dropoff_time  \\\n",
       "355003        1451924382              1           27     11.143889   \n",
       "680594        1455374280              3            8     15.960556   \n",
       "924150        1451945655              1           31      1.018611   \n",
       "978383        1455374812              3           25     18.303889   \n",
       "\n",
       "        dropoff_weekday  dropoff_timestamp  \n",
       "355003                3         1453864118  \n",
       "680594                2         1457423858  \n",
       "924150                7         1454173267  \n",
       "978383                5         1458901094  "
      ]
     },
     "execution_count": 19,
     "metadata": {},
     "output_type": "execute_result"
    }
   ],
   "source": [
    "print 'Linear fit y = x*%.2f + %.2f '%( pars[0], pars[1])\n",
    "print '[NOTE] %d trips are out of %d days'%( len(x[ x > day_cut*24*60*60 ]), day_cut )\n",
    "print df.loc[df['trip_duration'] > day_cut*24*60*60 ]['trip_duration']\n",
    "df[df['trip_duration'] > day_cut*24*60*60 ]"
   ]
  },
  {
   "cell_type": "markdown",
   "metadata": {},
   "source": [
    "* The duration in data is correct by comapring with timestamps between pickup & dropoff. The **fitted slope = 1**, **intercept = 0**. \n",
    "* There are **4 trips** having strange long duration. Need to check the distance v.s. duration, it can show if the duration in reasonable distance. Or the time clock was fogetten to closed. "
   ]
  },
  {
   "cell_type": "markdown",
   "metadata": {},
   "source": [
    "### 4. Passenge counts\n",
    "The number of passengers in the vehicle (driver entered value)<br />"
   ]
  },
  {
   "cell_type": "code",
   "execution_count": 20,
   "metadata": {},
   "outputs": [
    {
     "name": "stdout",
     "output_type": "stream",
     "text": [
      "[0 1 2 3 4 5 6 7 8 9]\n"
     ]
    }
   ],
   "source": [
    "bins = np.unique(df['passenger_count'].values)\n",
    "print bins"
   ]
  },
  {
   "cell_type": "code",
   "execution_count": 21,
   "metadata": {},
   "outputs": [
    {
     "data": {
      "image/png": "[encoded data removed]",
      "text/plain": [
       "<matplotlib.figure.Figure at 0x118735b10>"
      ]
     },
     "metadata": {},
     "output_type": "display_data"
    },
    {
     "data": {
      "text/html": [
       "<div>\n",
       "<style>\n",
       "    .dataframe thead tr:only-child th {\n",
       "        text-align: right;\n",
       "    }\n",
       "\n",
       "    .dataframe thead th {\n",
       "        text-align: left;\n",
       "    }\n",
       "\n",
       "    .dataframe tbody tr th {\n",
       "        vertical-align: top;\n",
       "    }\n",
       "</style>\n",
       "<table border=\"1\" class=\"dataframe\">\n",
       "  <thead>\n",
       "    <tr style=\"text-align: right;\">\n",
       "      <th></th>\n",
       "      <th>0</th>\n",
       "      <th>1</th>\n",
       "      <th>2</th>\n",
       "      <th>3</th>\n",
       "      <th>4</th>\n",
       "      <th>5</th>\n",
       "      <th>6</th>\n",
       "      <th>7</th>\n",
       "      <th>8</th>\n",
       "      <th>9</th>\n",
       "    </tr>\n",
       "  </thead>\n",
       "  <tbody>\n",
       "    <tr>\n",
       "      <th>Trips</th>\n",
       "      <td>60</td>\n",
       "      <td>1033540</td>\n",
       "      <td>210318</td>\n",
       "      <td>59896</td>\n",
       "      <td>28404</td>\n",
       "      <td>78088</td>\n",
       "      <td>48333</td>\n",
       "      <td>3</td>\n",
       "      <td>1</td>\n",
       "      <td>1</td>\n",
       "    </tr>\n",
       "  </tbody>\n",
       "</table>\n",
       "</div>"
      ],
      "text/plain": [
       "        0        1       2      3      4      5      6  7  8  9\n",
       "Trips  60  1033540  210318  59896  28404  78088  48333  3  1  1"
      ]
     },
     "execution_count": 21,
     "metadata": {},
     "output_type": "execute_result"
    }
   ],
   "source": [
    "plt.figure(figsize=(20,6))\n",
    "n_pass, b_pass, p_pass = plt.hist( df['passenger_count'], \n",
    "                                   bins=range(len(bins)+1), # Due to end 2 bins are 1, hist will combined them to a bin. \n",
    "                                   edgecolor='black',\n",
    "                                   log=True )\n",
    "plt.tick_params(labelsize=20)\n",
    "plt.xticks(range(len(bins)+1))\n",
    "plt.xlabel(\"Passengers\", fontsize=25)\n",
    "plt.ylabel('Trips', fontsize=25)\n",
    "plt.ylim(ymin=0.5)\n",
    "plt.show()\n",
    "df_trips_passenger = pd.DataFrame(data=[n_pass.astype(int)], columns=range(len(bins)), index=['Trips'])\n",
    "df_trips_passenger.head() "
   ]
  },
  {
   "cell_type": "markdown",
   "metadata": {},
   "source": [
    "* Most of the case is with **1**.\n",
    "* The passender with **5** & **6** cases slightly increase, maybe the texi is a **big size** which is an hiden fearture.\n",
    "* Interest 2D check v.s. : duration, daytime, weekday, vandor ID, direction.\n",
    "* Why there is zero? Check its duration, daytime"
   ]
  },
  {
   "cell_type": "markdown",
   "metadata": {},
   "source": [
    "### 5. Pickup & dropoff location\n",
    "The longitude/latitude where the meter was engage/disengaged<br />"
   ]
  },
  {
   "cell_type": "code",
   "execution_count": 22,
   "metadata": {
    "collapsed": true
   },
   "outputs": [],
   "source": [
    "# Working...."
   ]
  }
 ],
 "metadata": {
  "kernelspec": {
   "display_name": "Python 2",
   "language": "python",
   "name": "python2"
  },
  "language_info": {
   "codemirror_mode": {
    "name": "ipython",
    "version": 2
   },
   "file_extension": ".py",
   "mimetype": "text/x-python",
   "name": "python",
   "nbconvert_exporter": "python",
   "pygments_lexer": "ipython2",
   "version": "2.7.13"
  }
 },
 "nbformat": 4,
 "nbformat_minor": 2
}
