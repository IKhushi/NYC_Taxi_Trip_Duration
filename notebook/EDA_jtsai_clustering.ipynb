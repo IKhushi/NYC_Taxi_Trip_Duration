{
 "cells": [
  {
   "cell_type": "markdown",
   "metadata": {},
   "source": [
    "# Exploratory Data Analysis (EDA) - clustering of NYC map \n",
    "---\n",
    "* **Overview default data**\n",
    "<br />Use [train.csv](../data/train.csv) to do analysis, containing $1\\,458\\,644$ trips.\n",
    "\n",
    "| Name | Description | type | unit |\n",
    "| :----: | :---- | :----: | :----: | \n",
    "| id | a unique identifier for each trip | object |  |\n",
    "| vendor_id | a code indicating the provider associated with the trip record | int | |\n",
    "| pickup_datetime | date and time when the meter was engaged | object | |\n",
    "| dropoff_datetime | date and time when the meter was disengaged (not in test data)| object | |\n",
    "| passenger_count | the number of passengers in the vehicle (driver entered value) | int | people |\n",
    "| pickup_longitude | the longitude where the meter was engaged | float | degree |\n",
    "| pickup_latitude | the latitude where the meter was engaged | float | degree |\n",
    "| dropoff_longitude | the longitude where the meter was disengaged | float | degree | \n",
    "| dropoff_latitude | the latitude where the meter was disengaged | float | degree |\n",
    "| store_and_fwd_flag | This flag indicates whether the trip record was held in vehicle memory before sending to the vendor because the vehicle did not have a connection to the server - Y=store and forward; N=not a store and forward trip | object | |\n",
    "| trip_duration | duration of the trip | int | second |\n",
    "\n",
    "---\n",
    "## Import modules & function defination"
   ]
  },
  {
   "cell_type": "code",
   "execution_count": 1,
   "metadata": {
    "collapsed": true
   },
   "outputs": [],
   "source": [
    "import re, calendar, time, datetime\n",
    "import matplotlib\n",
    "import matplotlib.pyplot as plt\n",
    "import seaborn as sns\n",
    "import numpy as np\n",
    "import pandas as pd\n",
    "import string"
   ]
  },
  {
   "cell_type": "markdown",
   "metadata": {},
   "source": [
    "---\n",
    "## Class & function defination "
   ]
  },
  {
   "cell_type": "code",
   "execution_count": 2,
   "metadata": {
    "collapsed": true
   },
   "outputs": [],
   "source": [
    "from matplotlib.colors import ListedColormap\n",
    "def plot_decision_regions(X, y, classifier, cmapn='winter', resolution=0.0001):\n",
    "    ### setup marker generator and color map\n",
    "\n",
    "    plt.clf()\n",
    "    cmap = plt.get_cmap(cmapn)\n",
    "\n",
    "    ### plot the decision suface\n",
    "    # extract the minimum of 0 colume-variable & expand with 1 cm\n",
    "    x1_min, x2_min = X[:, 0].min()-0.1, X[:, 1].min()-0.1\n",
    "    x1_max, x2_max = X[:, 0].max()+0.1, X[:, 1].max()+0.1\n",
    "\n",
    "    # Making a grid 2-D suface w.r.t. the resolution\n",
    "    xx1, xx2 = np.meshgrid( np.arange(x1_min, x1_max, resolution),\n",
    "                            np.arange(x2_min, x2_max, resolution))\n",
    "\n",
    "    grid = np.array([xx1.ravel(), xx2.ravel()]).T\n",
    "    Z  = classifier.predict(grid)\n",
    "    Z_ = Z.reshape(xx1.shape)\n",
    "\n",
    "    plt.contourf(xx1, xx2, Z_, alpha=0.4, cmap=cmap)\n",
    "    plt.xlim(x1_min, xx1.max())\n",
    "    plt.ylim(x2_min, xx2.max())\n",
    "    \n",
    "    for c1 in np.unique(y):\n",
    "        x1 = np.average(grid[(Z == c1), 0 ])\n",
    "        x2 = np.average(grid[(Z == c1), 1 ])\n",
    "        plt.text(x1, x2, str(c1), fontsize=8)\n",
    "    \n",
    "    # plot class samples\n",
    "    #for idx, c1 in enumerate(np.unique(y)):\n",
    "    #    plt.scatter(x=X[y == c1, 0], y=X[y == c1, 1], c=cmap(idx), s=5, alpha=0.3 ) #c=colors(idx)\n"
   ]
  },
  {
   "cell_type": "code",
   "execution_count": 3,
   "metadata": {
    "collapsed": true
   },
   "outputs": [],
   "source": [
    "def draw_map_zone( df, x_name, y_name, z_name, name, zoom=0.9 ):\n",
    "\n",
    "    x = df[x_name]\n",
    "    y = df[y_name]\n",
    "    z = df[z_name]\n",
    "    \n",
    "    zones = np.unique(z)\n",
    "\n",
    "    cutmap = zoom/100\n",
    "    x_max, x_min = x.quantile(1-cutmap), x.quantile(cutmap)\n",
    "    y_max, y_min = y.quantile(1-cutmap), y.quantile(cutmap)\n",
    "\n",
    "    #cmap = plt.get_cmap('spectral') \n",
    "    cmap = plt.get_cmap('winter') \n",
    "    colors = [cmap(i) for i in np.linspace(0, 1, len(zones))]\n",
    "\n",
    "    for i, zone in enumerate(zones):       \n",
    "        plt.scatter( x=x[ (z==zone) & (x>x_min) & (x<x_max) & (y<y_max) & (y>y_min) ], \n",
    "                     y=y[ (z==zone) & (x>x_min) & (x<x_max) & (y<y_max) & (y>y_min) ], \n",
    "                     s=5, alpha=0.3, c=colors[i])\n",
    "\n",
    "    plt.tick_params(labelsize=18)\n",
    "    plt.title(name, fontsize=18 )\n",
    "    plt.xlabel('Longitude', fontsize=18)\n",
    "    plt.ylabel('Latitude',  fontsize=18)\n",
    "    \n",
    "def draw_sub_zone( data, marker='*' ):\n",
    "    x=data['longitude']\n",
    "    y=data['latitude']\n",
    "    z=data['zone']\n",
    "    \n",
    "    zones = np.unique(z)\n",
    "    \n",
    "    cmap = plt.get_cmap('spring') \n",
    "    colors = [cmap(i) for i in np.linspace(0, 1, len(zones))]\n",
    " \n",
    "    for i, zone in enumerate(zones):       \n",
    "        plt.scatter( x=x[ z==zone ], \n",
    "                     y=y[ z==zone ], \n",
    "                     c=colors[i], marker=marker)\n"
   ]
  },
  {
   "cell_type": "markdown",
   "metadata": {},
   "source": [
    "---\n",
    "## Load data & extract variables\n",
    "### Load train data"
   ]
  },
  {
   "cell_type": "code",
   "execution_count": 4,
   "metadata": {},
   "outputs": [
    {
     "data": {
      "text/html": [
       "<div>\n",
       "<style>\n",
       "    .dataframe thead tr:only-child th {\n",
       "        text-align: right;\n",
       "    }\n",
       "\n",
       "    .dataframe thead th {\n",
       "        text-align: left;\n",
       "    }\n",
       "\n",
       "    .dataframe tbody tr th {\n",
       "        vertical-align: top;\n",
       "    }\n",
       "</style>\n",
       "<table border=\"1\" class=\"dataframe\">\n",
       "  <thead>\n",
       "    <tr style=\"text-align: right;\">\n",
       "      <th></th>\n",
       "      <th>id</th>\n",
       "      <th>vendor_id</th>\n",
       "      <th>pickup_datetime</th>\n",
       "      <th>dropoff_datetime</th>\n",
       "      <th>passenger_count</th>\n",
       "      <th>pickup_longitude</th>\n",
       "      <th>pickup_latitude</th>\n",
       "      <th>dropoff_longitude</th>\n",
       "      <th>dropoff_latitude</th>\n",
       "      <th>store_and_fwd_flag</th>\n",
       "      <th>trip_duration</th>\n",
       "    </tr>\n",
       "  </thead>\n",
       "  <tbody>\n",
       "    <tr>\n",
       "      <th>0</th>\n",
       "      <td>id2875421</td>\n",
       "      <td>2</td>\n",
       "      <td>2016-03-14 17:24:55</td>\n",
       "      <td>2016-03-14 17:32:30</td>\n",
       "      <td>1</td>\n",
       "      <td>-73.982155</td>\n",
       "      <td>40.767937</td>\n",
       "      <td>-73.964630</td>\n",
       "      <td>40.765602</td>\n",
       "      <td>N</td>\n",
       "      <td>455</td>\n",
       "    </tr>\n",
       "    <tr>\n",
       "      <th>1</th>\n",
       "      <td>id2377394</td>\n",
       "      <td>1</td>\n",
       "      <td>2016-06-12 00:43:35</td>\n",
       "      <td>2016-06-12 00:54:38</td>\n",
       "      <td>1</td>\n",
       "      <td>-73.980415</td>\n",
       "      <td>40.738564</td>\n",
       "      <td>-73.999481</td>\n",
       "      <td>40.731152</td>\n",
       "      <td>N</td>\n",
       "      <td>663</td>\n",
       "    </tr>\n",
       "  </tbody>\n",
       "</table>\n",
       "</div>"
      ],
      "text/plain": [
       "          id  vendor_id      pickup_datetime     dropoff_datetime  \\\n",
       "0  id2875421          2  2016-03-14 17:24:55  2016-03-14 17:32:30   \n",
       "1  id2377394          1  2016-06-12 00:43:35  2016-06-12 00:54:38   \n",
       "\n",
       "   passenger_count  pickup_longitude  pickup_latitude  dropoff_longitude  \\\n",
       "0                1        -73.982155        40.767937         -73.964630   \n",
       "1                1        -73.980415        40.738564         -73.999481   \n",
       "\n",
       "   dropoff_latitude store_and_fwd_flag  trip_duration  \n",
       "0         40.765602                  N            455  \n",
       "1         40.731152                  N            663  "
      ]
     },
     "execution_count": 4,
     "metadata": {},
     "output_type": "execute_result"
    }
   ],
   "source": [
    "df = pd.read_csv('../data/train.csv')\n",
    "df.head(2)"
   ]
  },
  {
   "cell_type": "markdown",
   "metadata": {},
   "source": [
    "### Load subway data"
   ]
  },
  {
   "cell_type": "code",
   "execution_count": 5,
   "metadata": {},
   "outputs": [
    {
     "data": {
      "text/html": [
       "<div>\n",
       "<style>\n",
       "    .dataframe thead tr:only-child th {\n",
       "        text-align: right;\n",
       "    }\n",
       "\n",
       "    .dataframe thead th {\n",
       "        text-align: left;\n",
       "    }\n",
       "\n",
       "    .dataframe tbody tr th {\n",
       "        vertical-align: top;\n",
       "    }\n",
       "</style>\n",
       "<table border=\"1\" class=\"dataframe\">\n",
       "  <thead>\n",
       "    <tr style=\"text-align: right;\">\n",
       "      <th></th>\n",
       "      <th>latitude</th>\n",
       "      <th>longitude</th>\n",
       "      <th>stop</th>\n",
       "      <th>sublines</th>\n",
       "      <th>substopid</th>\n",
       "    </tr>\n",
       "  </thead>\n",
       "  <tbody>\n",
       "    <tr>\n",
       "      <th>0</th>\n",
       "      <td>40.799494</td>\n",
       "      <td>-73.968308</td>\n",
       "      <td>103rd St</td>\n",
       "      <td>1</td>\n",
       "      <td>22</td>\n",
       "    </tr>\n",
       "    <tr>\n",
       "      <th>1</th>\n",
       "      <td>40.790697</td>\n",
       "      <td>-73.947472</td>\n",
       "      <td>103rd St</td>\n",
       "      <td>6</td>\n",
       "      <td>120</td>\n",
       "    </tr>\n",
       "  </tbody>\n",
       "</table>\n",
       "</div>"
      ],
      "text/plain": [
       "    latitude  longitude      stop sublines  substopid\n",
       "0  40.799494 -73.968308  103rd St        1         22\n",
       "1  40.790697 -73.947472  103rd St        6        120"
      ]
     },
     "execution_count": 5,
     "metadata": {},
     "output_type": "execute_result"
    }
   ],
   "source": [
    "df_sub = pd.read_csv('../data/NYC_Subway_Stations_xml.csv')\n",
    "df_sub.head(2)"
   ]
  },
  {
   "cell_type": "markdown",
   "metadata": {},
   "source": [
    "### Define used variables"
   ]
  },
  {
   "cell_type": "code",
   "execution_count": 6,
   "metadata": {
    "collapsed": true
   },
   "outputs": [],
   "source": [
    "def selector_InOutlier_1D( df, column_name, outlier_percent=0.5, get_inlier=True ):\n",
    "    ratio = outlier_percent/100. \n",
    "    if get_inlier:\n",
    "        df_ = df[ (df[column_name] < df[column_name].quantile(1-ratio)) &\n",
    "                  (df[column_name] > df[column_name].quantile(ratio)) ]\n",
    "    else:\n",
    "        df_ = df[ (df[column_name] >= df[column_name].quantile(1-ratio)) |\n",
    "                  (df[column_name] <= df[column_name].quantile(ratio))]\n",
    "    return df_\n",
    "\n",
    "def selector_InOutlier_2D( df, column_name1, column_name2, outlier_percent=0.5, get_inlier=True ):\n",
    "    ratio = outlier_percent/100. \n",
    "    if get_inlier:\n",
    "        # Can not use double selector_InOutlier_1D to get, since quantile is w.r.t. datasize\n",
    "        df_ = df[ (df[column_name1] < df[column_name1].quantile(1-ratio)) &\n",
    "                  (df[column_name1] > df[column_name1].quantile(ratio))   &\n",
    "                  (df[column_name2] < df[column_name2].quantile(1-ratio)) &\n",
    "                  (df[column_name2] > df[column_name2].quantile(ratio))   ]\n",
    "        \n",
    "    else:\n",
    "        df_ = df[ (df[column_name1] >= df[column_name1].quantile(1-ratio)) |\n",
    "                  (df[column_name1] <= df[column_name1].quantile(ratio))   |\n",
    "                  (df[column_name2] >= df[column_name2].quantile(1-ratio)) |\n",
    "                  (df[column_name2] <= df[column_name2].quantile(ratio))   ]\n",
    "    return df_"
   ]
  },
  {
   "cell_type": "code",
   "execution_count": 7,
   "metadata": {},
   "outputs": [
    {
     "name": "stdout",
     "output_type": "stream",
     "text": [
      "Pickup\n",
      "- Inlier  : 1429825 trips \n",
      "- Outlier : 28819 trips \n",
      "Dropoff\n",
      "- Inlier  : 1431910 trips \n",
      "- Outlier : 26734 trips \n"
     ]
    }
   ],
   "source": [
    "zoom = 0.5 # in percent\n",
    "cutmap = zoom/100 \n",
    "df_pick_in  = selector_InOutlier_2D( df, column_name1='pickup_longitude', column_name2='pickup_latitude')\n",
    "df_pick_out = selector_InOutlier_2D( df, column_name1='pickup_longitude', column_name2='pickup_latitude', get_inlier=False )\n",
    "df_drop_in  = selector_InOutlier_2D( df, column_name1='dropoff_longitude', column_name2='dropoff_latitude')\n",
    "df_drop_out = selector_InOutlier_2D( df, column_name1='dropoff_longitude', column_name2='dropoff_latitude', get_inlier=False )\n",
    "\n",
    "print 'Pickup'\n",
    "print '- Inlier  : %d trips '% len(df_pick_in)\n",
    "print '- Outlier : %d trips '% len(df_pick_out)\n",
    "print 'Dropoff'\n",
    "print '- Inlier  : %d trips '% len(df_drop_in)\n",
    "print '- Outlier : %d trips '% len(df_drop_out)"
   ]
  },
  {
   "cell_type": "markdown",
   "metadata": {},
   "source": [
    "---\n",
    "## Analysis\n",
    "### 1. Heatmaps\n",
    "**1.1 Trips **"
   ]
  },
  {
   "cell_type": "code",
   "execution_count": 8,
   "metadata": {
    "collapsed": true
   },
   "outputs": [],
   "source": [
    "def trip_density_map( x, y, bins=50, margin=0.02, cmap='hot', alpha=0.85, title='', debug=True, **hist2d_kwds):\n",
    "    xmin, xmax, ymin, ymax = min(x), max(x), min(y), max(y)\n",
    "    counts, xedges, yedges, image = plt.hist2d( x=x, \n",
    "                                                y=y,  \n",
    "                                                range=[[xmin-margin, xmax+margin], \n",
    "                                                       [ymin-margin, ymax+margin]],\n",
    "                                                bins=bins, \n",
    "                                                cmap=cmap, \n",
    "                                                alpha=alpha, \n",
    "                                                **hist2d_kwds)\n",
    "    plt.colorbar(image)\n",
    "    plt.tick_params(labelsize=20)\n",
    "    plt.title(title, fontsize=25)\n",
    "    plt.xlabel('Longitude', fontsize=25)\n",
    "    plt.ylabel('Latitude', fontsize=25)\n",
    "    \n",
    "    if debug:\n",
    "        print 'Total  : %d trips'% np.sum(counts)\n",
    "        print '%d zones has non-zero density'% len(counts[ counts != 0 ])\n",
    "        print 'Highest density :',np.max(counts)\n",
    "    \n",
    "    # counts - dims (2d) = xbins X ybins\n",
    "    # xedges - dims (1d) = xbins + 1\n",
    "    # yedges - dims (1d) = ybins + 1\n",
    "    data = { 'trips' : counts.ravel().astype(int),\n",
    "             'x1' : np.repeat(xedges[:-1],  len(counts)),\n",
    "             'x2' : np.repeat(xedges[1:], len(counts)),\n",
    "             'y1' : np.repeat(yedges[:-1],  len(counts)),\n",
    "             'y2' : np.repeat(yedges[1:], len(counts)) }\n",
    "\n",
    "    return pd.DataFrame(data=data)"
   ]
  },
  {
   "cell_type": "code",
   "execution_count": 9,
   "metadata": {},
   "outputs": [
    {
     "name": "stdout",
     "output_type": "stream",
     "text": [
      "Total  : 1429825 trips\n",
      "1227 zones has non-zero density\n",
      "Highest density : 30462.0\n"
     ]
    },
    {
     "data": {
      "image/png": "[encoded data removed]",
      "text/plain": [
       "<matplotlib.figure.Figure at 0x109a46890>"
      ]
     },
     "metadata": {},
     "output_type": "display_data"
    }
   ],
   "source": [
    "plt.figure(figsize=(16,10))\n",
    "x_pick_in, y_pick_in = df_pick_in['pickup_longitude'].values, df_pick_in['pickup_latitude'].values\n",
    "pick_density = trip_density_map(x_pick_in, y_pick_in, title='Pickup')\n",
    "plt.show()"
   ]
  },
  {
   "cell_type": "code",
   "execution_count": 10,
   "metadata": {},
   "outputs": [
    {
     "data": {
      "text/html": [
       "<div>\n",
       "<style>\n",
       "    .dataframe thead tr:only-child th {\n",
       "        text-align: right;\n",
       "    }\n",
       "\n",
       "    .dataframe thead th {\n",
       "        text-align: left;\n",
       "    }\n",
       "\n",
       "    .dataframe tbody tr th {\n",
       "        vertical-align: top;\n",
       "    }\n",
       "</style>\n",
       "<table border=\"1\" class=\"dataframe\">\n",
       "  <thead>\n",
       "    <tr style=\"text-align: right;\">\n",
       "      <th></th>\n",
       "      <th>trips</th>\n",
       "      <th>x1</th>\n",
       "      <th>x2</th>\n",
       "      <th>y1</th>\n",
       "      <th>y2</th>\n",
       "    </tr>\n",
       "  </thead>\n",
       "  <tbody>\n",
       "    <tr>\n",
       "      <th>429</th>\n",
       "      <td>30462</td>\n",
       "      <td>-73.991784</td>\n",
       "      <td>-73.986287</td>\n",
       "      <td>40.658160</td>\n",
       "      <td>40.662380</td>\n",
       "    </tr>\n",
       "    <tr>\n",
       "      <th>530</th>\n",
       "      <td>26512</td>\n",
       "      <td>-73.980790</td>\n",
       "      <td>-73.975292</td>\n",
       "      <td>40.666600</td>\n",
       "      <td>40.670819</td>\n",
       "    </tr>\n",
       "    <tr>\n",
       "      <th>431</th>\n",
       "      <td>25494</td>\n",
       "      <td>-73.991784</td>\n",
       "      <td>-73.986287</td>\n",
       "      <td>40.658160</td>\n",
       "      <td>40.662380</td>\n",
       "    </tr>\n",
       "    <tr>\n",
       "      <th>581</th>\n",
       "      <td>25014</td>\n",
       "      <td>-73.975292</td>\n",
       "      <td>-73.969795</td>\n",
       "      <td>40.670819</td>\n",
       "      <td>40.675039</td>\n",
       "    </tr>\n",
       "    <tr>\n",
       "      <th>582</th>\n",
       "      <td>21261</td>\n",
       "      <td>-73.975292</td>\n",
       "      <td>-73.969795</td>\n",
       "      <td>40.670819</td>\n",
       "      <td>40.675039</td>\n",
       "    </tr>\n",
       "    <tr>\n",
       "      <th>482</th>\n",
       "      <td>20653</td>\n",
       "      <td>-73.986287</td>\n",
       "      <td>-73.980790</td>\n",
       "      <td>40.662380</td>\n",
       "      <td>40.666600</td>\n",
       "    </tr>\n",
       "    <tr>\n",
       "      <th>632</th>\n",
       "      <td>19259</td>\n",
       "      <td>-73.969795</td>\n",
       "      <td>-73.964298</td>\n",
       "      <td>40.675039</td>\n",
       "      <td>40.679259</td>\n",
       "    </tr>\n",
       "    <tr>\n",
       "      <th>379</th>\n",
       "      <td>19137</td>\n",
       "      <td>-73.997281</td>\n",
       "      <td>-73.991784</td>\n",
       "      <td>40.653940</td>\n",
       "      <td>40.658160</td>\n",
       "    </tr>\n",
       "    <tr>\n",
       "      <th>277</th>\n",
       "      <td>18436</td>\n",
       "      <td>-74.008276</td>\n",
       "      <td>-74.002779</td>\n",
       "      <td>40.645501</td>\n",
       "      <td>40.649720</td>\n",
       "    </tr>\n",
       "    <tr>\n",
       "      <th>478</th>\n",
       "      <td>18101</td>\n",
       "      <td>-73.986287</td>\n",
       "      <td>-73.980790</td>\n",
       "      <td>40.662380</td>\n",
       "      <td>40.666600</td>\n",
       "    </tr>\n",
       "  </tbody>\n",
       "</table>\n",
       "</div>"
      ],
      "text/plain": [
       "     trips         x1         x2         y1         y2\n",
       "429  30462 -73.991784 -73.986287  40.658160  40.662380\n",
       "530  26512 -73.980790 -73.975292  40.666600  40.670819\n",
       "431  25494 -73.991784 -73.986287  40.658160  40.662380\n",
       "581  25014 -73.975292 -73.969795  40.670819  40.675039\n",
       "582  21261 -73.975292 -73.969795  40.670819  40.675039\n",
       "482  20653 -73.986287 -73.980790  40.662380  40.666600\n",
       "632  19259 -73.969795 -73.964298  40.675039  40.679259\n",
       "379  19137 -73.997281 -73.991784  40.653940  40.658160\n",
       "277  18436 -74.008276 -74.002779  40.645501  40.649720\n",
       "478  18101 -73.986287 -73.980790  40.662380  40.666600"
      ]
     },
     "execution_count": 10,
     "metadata": {},
     "output_type": "execute_result"
    }
   ],
   "source": [
    "pick_density = pick_density[ pick_density['trips'] > 0 ].sort_values(['trips'], ascending=False )\n",
    "pick_density.head(10)"
   ]
  },
  {
   "cell_type": "code",
   "execution_count": 11,
   "metadata": {},
   "outputs": [
    {
     "name": "stdout",
     "output_type": "stream",
     "text": [
      "Total  : 1431910 trips\n",
      "1572 zones has non-zero density\n",
      "Highest density : 34126.0\n"
     ]
    },
    {
     "data": {
      "image/png": "[encoded data removed]",
      "text/plain": [
       "<matplotlib.figure.Figure at 0x10f7650d0>"
      ]
     },
     "metadata": {},
     "output_type": "display_data"
    }
   ],
   "source": [
    "plt.figure(figsize=(16,10))\n",
    "x_drop_in, y_drop_in = df_drop_in['dropoff_longitude'].values, df_drop_in['dropoff_latitude'].values\n",
    "drop_density = trip_density_map(x_drop_in, y_drop_in, title='Dropoff')\n",
    "plt.show()"
   ]
  },
  {
   "cell_type": "code",
   "execution_count": 12,
   "metadata": {},
   "outputs": [
    {
     "data": {
      "text/html": [
       "<div>\n",
       "<style>\n",
       "    .dataframe thead tr:only-child th {\n",
       "        text-align: right;\n",
       "    }\n",
       "\n",
       "    .dataframe thead th {\n",
       "        text-align: left;\n",
       "    }\n",
       "\n",
       "    .dataframe tbody tr th {\n",
       "        vertical-align: top;\n",
       "    }\n",
       "</style>\n",
       "<table border=\"1\" class=\"dataframe\">\n",
       "  <thead>\n",
       "    <tr style=\"text-align: right;\">\n",
       "      <th></th>\n",
       "      <th>trips</th>\n",
       "      <th>x1</th>\n",
       "      <th>x2</th>\n",
       "      <th>y1</th>\n",
       "      <th>y2</th>\n",
       "    </tr>\n",
       "  </thead>\n",
       "  <tbody>\n",
       "    <tr>\n",
       "      <th>425</th>\n",
       "      <td>34126</td>\n",
       "      <td>-73.993340</td>\n",
       "      <td>-73.987853</td>\n",
       "      <td>40.662277</td>\n",
       "      <td>40.667322</td>\n",
       "    </tr>\n",
       "    <tr>\n",
       "      <th>576</th>\n",
       "      <td>25514</td>\n",
       "      <td>-73.976879</td>\n",
       "      <td>-73.971392</td>\n",
       "      <td>40.677411</td>\n",
       "      <td>40.682456</td>\n",
       "    </tr>\n",
       "    <tr>\n",
       "      <th>525</th>\n",
       "      <td>23857</td>\n",
       "      <td>-73.982366</td>\n",
       "      <td>-73.976879</td>\n",
       "      <td>40.672367</td>\n",
       "      <td>40.677411</td>\n",
       "    </tr>\n",
       "    <tr>\n",
       "      <th>527</th>\n",
       "      <td>22491</td>\n",
       "      <td>-73.982366</td>\n",
       "      <td>-73.976879</td>\n",
       "      <td>40.672367</td>\n",
       "      <td>40.677411</td>\n",
       "    </tr>\n",
       "    <tr>\n",
       "      <th>577</th>\n",
       "      <td>22142</td>\n",
       "      <td>-73.976879</td>\n",
       "      <td>-73.971392</td>\n",
       "      <td>40.677411</td>\n",
       "      <td>40.682456</td>\n",
       "    </tr>\n",
       "    <tr>\n",
       "      <th>477</th>\n",
       "      <td>22021</td>\n",
       "      <td>-73.987853</td>\n",
       "      <td>-73.982366</td>\n",
       "      <td>40.667322</td>\n",
       "      <td>40.672367</td>\n",
       "    </tr>\n",
       "    <tr>\n",
       "      <th>575</th>\n",
       "      <td>21411</td>\n",
       "      <td>-73.976879</td>\n",
       "      <td>-73.971392</td>\n",
       "      <td>40.677411</td>\n",
       "      <td>40.682456</td>\n",
       "    </tr>\n",
       "    <tr>\n",
       "      <th>627</th>\n",
       "      <td>20197</td>\n",
       "      <td>-73.971392</td>\n",
       "      <td>-73.965905</td>\n",
       "      <td>40.682456</td>\n",
       "      <td>40.687501</td>\n",
       "    </tr>\n",
       "    <tr>\n",
       "      <th>526</th>\n",
       "      <td>19289</td>\n",
       "      <td>-73.982366</td>\n",
       "      <td>-73.976879</td>\n",
       "      <td>40.672367</td>\n",
       "      <td>40.677411</td>\n",
       "    </tr>\n",
       "    <tr>\n",
       "      <th>528</th>\n",
       "      <td>18626</td>\n",
       "      <td>-73.982366</td>\n",
       "      <td>-73.976879</td>\n",
       "      <td>40.672367</td>\n",
       "      <td>40.677411</td>\n",
       "    </tr>\n",
       "  </tbody>\n",
       "</table>\n",
       "</div>"
      ],
      "text/plain": [
       "     trips         x1         x2         y1         y2\n",
       "425  34126 -73.993340 -73.987853  40.662277  40.667322\n",
       "576  25514 -73.976879 -73.971392  40.677411  40.682456\n",
       "525  23857 -73.982366 -73.976879  40.672367  40.677411\n",
       "527  22491 -73.982366 -73.976879  40.672367  40.677411\n",
       "577  22142 -73.976879 -73.971392  40.677411  40.682456\n",
       "477  22021 -73.987853 -73.982366  40.667322  40.672367\n",
       "575  21411 -73.976879 -73.971392  40.677411  40.682456\n",
       "627  20197 -73.971392 -73.965905  40.682456  40.687501\n",
       "526  19289 -73.982366 -73.976879  40.672367  40.677411\n",
       "528  18626 -73.982366 -73.976879  40.672367  40.677411"
      ]
     },
     "execution_count": 12,
     "metadata": {},
     "output_type": "execute_result"
    }
   ],
   "source": [
    "drop_density = drop_density[ drop_density['trips'] > 0 ].sort_values(['trips'], ascending=False )\n",
    "drop_density.head(10)"
   ]
  },
  {
   "cell_type": "markdown",
   "metadata": {},
   "source": [
    "* Pickup & dropoff have similar behavior of density. Highest density is between **-73.993 - -73.986** & **40.658 - 40.667** of **NYC downtown**.\n",
    "* The other significant region has visible density is in **La Guardia** & **Airport**"
   ]
  },
  {
   "cell_type": "markdown",
   "metadata": {},
   "source": [
    "### 2. Clustering"
   ]
  },
  {
   "cell_type": "code",
   "execution_count": 13,
   "metadata": {
    "collapsed": true
   },
   "outputs": [],
   "source": [
    "from sklearn.cluster import *"
   ]
  },
  {
   "cell_type": "code",
   "execution_count": 14,
   "metadata": {
    "collapsed": true
   },
   "outputs": [],
   "source": [
    "class cluster_zone(object):\n",
    "    def __init__(self, df, n_zone=100):\n",
    "        self.df = df\n",
    "        self.X = self.df.values\n",
    "        self.n_sample  = self.X.shape[0]\n",
    "        self.n_feature = self.X.shape[1]\n",
    "        self.n_zone = n_zone\n",
    "        # Cluster_Name : [ used, class, use_n_sample, time ]\n",
    "        self.cluster = {'kmeans'     : [ False, MiniBatchKMeans(),         0, 0], \n",
    "                        'wardAgg'    : [ False, AgglomerativeClustering(), 0, 0],\n",
    "                        'completeAgg': [ False, AgglomerativeClustering(), 0, 0]}\n",
    "    \n",
    "    def shuffel(self, use_sample=None, random_state=1):\n",
    "        np.random.seed(random_state)\n",
    "        return self.df.reindex(np.random.permutation(self.df.index)).values[:use_sample]\n",
    "        \n",
    "    def fit(self, name, use_sample=None, debug=False, random_state=1):\n",
    "        start_time = time.time()\n",
    "        self.cluster[name][0] = True\n",
    "        self.cluster[name][1].fit(self.shuffel(use_sample=use_sample, \n",
    "                                               random_state=random_state))\n",
    "        self.cluster[name][2] = use_sample\n",
    "        self.cluster[name][3] = time.time() - start_time\n",
    "        if debug:\n",
    "            print 'Used %.2f sec. (%.0f)'%( self.cluster[name][3], self.cluster[name][2])\n",
    "            \n",
    "    def predict(self, name, X):\n",
    "        if name not in self.cluster: return\n",
    "        return self.cluster[name][1].predict(X)\n",
    "\n",
    "    def kmeans(self, use_sample=500000, batch_size=10000, random_state=1, debug=False ):\n",
    "        self.cluster['kmeans'][1] = MiniBatchKMeans( n_clusters = self.n_zone, \n",
    "                                                     batch_size = batch_size, \n",
    "                                                     random_state = random_state)\n",
    "        self.fit('kmeans', use_sample, debug)\n",
    "        \n",
    "    def wardAgg(self, use_sample=20000, debug=False):\n",
    "        self.cluster['wardAgg'][1] = AgglomerativeClustering( n_clusters=self.n_zone, linkage='ward')\n",
    "        self.fit('wardAgg', use_sample, debug)\n",
    "        \n",
    "    def completeAgg(self, use_sample=20000, debug=False):\n",
    "        self.cluster['completeAgg'][1] = AgglomerativeClustering( n_clusters=self.n_zone, linkage='complete')\n",
    "        self.fit('completeAgg', use_sample, debug)\n",
    "        \n",
    "    def predict_df_column(self, algo_name, df_predict ):\n",
    "        return pd.DataFrame(self.predict(algo_name, df_predict.values))\n",
    "    "
   ]
  },
  {
   "cell_type": "code",
   "execution_count": 15,
   "metadata": {},
   "outputs": [
    {
     "data": {
      "text/html": [
       "<div>\n",
       "<style>\n",
       "    .dataframe thead tr:only-child th {\n",
       "        text-align: right;\n",
       "    }\n",
       "\n",
       "    .dataframe thead th {\n",
       "        text-align: left;\n",
       "    }\n",
       "\n",
       "    .dataframe tbody tr th {\n",
       "        vertical-align: top;\n",
       "    }\n",
       "</style>\n",
       "<table border=\"1\" class=\"dataframe\">\n",
       "  <thead>\n",
       "    <tr style=\"text-align: right;\">\n",
       "      <th></th>\n",
       "      <th>longitude</th>\n",
       "      <th>latitude</th>\n",
       "    </tr>\n",
       "  </thead>\n",
       "  <tbody>\n",
       "    <tr>\n",
       "      <th>0</th>\n",
       "      <td>-73.982155</td>\n",
       "      <td>40.767937</td>\n",
       "    </tr>\n",
       "    <tr>\n",
       "      <th>1</th>\n",
       "      <td>-73.980415</td>\n",
       "      <td>40.738564</td>\n",
       "    </tr>\n",
       "    <tr>\n",
       "      <th>2</th>\n",
       "      <td>-73.979027</td>\n",
       "      <td>40.763939</td>\n",
       "    </tr>\n",
       "    <tr>\n",
       "      <th>3</th>\n",
       "      <td>-74.010040</td>\n",
       "      <td>40.719971</td>\n",
       "    </tr>\n",
       "    <tr>\n",
       "      <th>4</th>\n",
       "      <td>-73.973053</td>\n",
       "      <td>40.793209</td>\n",
       "    </tr>\n",
       "  </tbody>\n",
       "</table>\n",
       "</div>"
      ],
      "text/plain": [
       "   longitude   latitude\n",
       "0 -73.982155  40.767937\n",
       "1 -73.980415  40.738564\n",
       "2 -73.979027  40.763939\n",
       "3 -74.010040  40.719971\n",
       "4 -73.973053  40.793209"
      ]
     },
     "execution_count": 15,
     "metadata": {},
     "output_type": "execute_result"
    }
   ],
   "source": [
    "df_map = df[['pickup_longitude','pickup_latitude', 'dropoff_longitude','dropoff_latitude']]\n",
    "pick_train = df_map[['pickup_longitude','pickup_latitude']]\n",
    "drop_train = df_map[['dropoff_longitude','dropoff_latitude']]\n",
    "train_sample = pd.DataFrame(np.vstack((pick_train.values, drop_train.values)), \n",
    "                            columns=['longitude','latitude'])\n",
    "train_sample.head()"
   ]
  },
  {
   "cell_type": "code",
   "execution_count": 16,
   "metadata": {},
   "outputs": [
    {
     "data": {
      "text/html": [
       "<div>\n",
       "<style>\n",
       "    .dataframe thead tr:only-child th {\n",
       "        text-align: right;\n",
       "    }\n",
       "\n",
       "    .dataframe thead th {\n",
       "        text-align: left;\n",
       "    }\n",
       "\n",
       "    .dataframe tbody tr th {\n",
       "        vertical-align: top;\n",
       "    }\n",
       "</style>\n",
       "<table border=\"1\" class=\"dataframe\">\n",
       "  <thead>\n",
       "    <tr style=\"text-align: right;\">\n",
       "      <th></th>\n",
       "      <th>longitude</th>\n",
       "      <th>latitude</th>\n",
       "    </tr>\n",
       "  </thead>\n",
       "  <tbody>\n",
       "    <tr>\n",
       "      <th>0</th>\n",
       "      <td>-73.982155</td>\n",
       "      <td>40.767937</td>\n",
       "    </tr>\n",
       "    <tr>\n",
       "      <th>1</th>\n",
       "      <td>-73.980415</td>\n",
       "      <td>40.738564</td>\n",
       "    </tr>\n",
       "    <tr>\n",
       "      <th>2</th>\n",
       "      <td>-73.979027</td>\n",
       "      <td>40.763939</td>\n",
       "    </tr>\n",
       "    <tr>\n",
       "      <th>3</th>\n",
       "      <td>-74.010040</td>\n",
       "      <td>40.719971</td>\n",
       "    </tr>\n",
       "    <tr>\n",
       "      <th>4</th>\n",
       "      <td>-73.973053</td>\n",
       "      <td>40.793209</td>\n",
       "    </tr>\n",
       "  </tbody>\n",
       "</table>\n",
       "</div>"
      ],
      "text/plain": [
       "   longitude   latitude\n",
       "0 -73.982155  40.767937\n",
       "1 -73.980415  40.738564\n",
       "2 -73.979027  40.763939\n",
       "3 -74.010040  40.719971\n",
       "4 -73.973053  40.793209"
      ]
     },
     "execution_count": 16,
     "metadata": {},
     "output_type": "execute_result"
    }
   ],
   "source": [
    "clusters = cluster_zone( train_sample )\n",
    "clusters.df.head()"
   ]
  },
  {
   "cell_type": "code",
   "execution_count": 17,
   "metadata": {},
   "outputs": [
    {
     "data": {
      "text/plain": [
       "array([[-73.98215485,  40.76793671],\n",
       "       [-73.98041534,  40.73856354],\n",
       "       [-73.97902679,  40.7639389 ],\n",
       "       ..., \n",
       "       [-74.00443268,  40.70737076],\n",
       "       [-73.97463226,  40.75710678],\n",
       "       [-73.97280884,  40.79058456]])"
      ]
     },
     "execution_count": 17,
     "metadata": {},
     "output_type": "execute_result"
    }
   ],
   "source": [
    "clusters.X"
   ]
  },
  {
   "cell_type": "code",
   "execution_count": 18,
   "metadata": {},
   "outputs": [
    {
     "name": "stdout",
     "output_type": "stream",
     "text": [
      "2917288 2917288\n"
     ]
    }
   ],
   "source": [
    "print len(clusters.df), len(clusters.X)"
   ]
  },
  {
   "cell_type": "code",
   "execution_count": 19,
   "metadata": {},
   "outputs": [
    {
     "name": "stdout",
     "output_type": "stream",
     "text": [
      "Used 3.19 sec. (500000)\n"
     ]
    }
   ],
   "source": [
    "clusters.kmeans(debug=True)"
   ]
  },
  {
   "cell_type": "code",
   "execution_count": 20,
   "metadata": {},
   "outputs": [
    {
     "name": "stdout",
     "output_type": "stream",
     "text": [
      "Used 15.05 sec. (20000)\n"
     ]
    }
   ],
   "source": [
    "clusters.wardAgg(debug=True)"
   ]
  },
  {
   "cell_type": "code",
   "execution_count": 21,
   "metadata": {},
   "outputs": [
    {
     "name": "stdout",
     "output_type": "stream",
     "text": [
      "Used 16.61 sec. (20000)\n"
     ]
    }
   ],
   "source": [
    "clusters.completeAgg(debug=True)"
   ]
  },
  {
   "cell_type": "code",
   "execution_count": 22,
   "metadata": {},
   "outputs": [
    {
     "name": "stderr",
     "output_type": "stream",
     "text": [
      "/Users/Alpha/anaconda/lib/python2.7/site-packages/ipykernel/__main__.py:1: SettingWithCopyWarning: \n",
      "A value is trying to be set on a copy of a slice from a DataFrame.\n",
      "Try using .loc[row_indexer,col_indexer] = value instead\n",
      "\n",
      "See the caveats in the documentation: http://pandas.pydata.org/pandas-docs/stable/indexing.html#indexing-view-versus-copy\n",
      "  if __name__ == '__main__':\n"
     ]
    },
    {
     "ename": "AttributeError",
     "evalue": "'AgglomerativeClustering' object has no attribute 'predict'",
     "output_type": "error",
     "traceback": [
      "\u001b[0;31m---------------------------------------------------------------------------\u001b[0m",
      "\u001b[0;31mAttributeError\u001b[0m                            Traceback (most recent call last)",
      "\u001b[0;32m<ipython-input-22-2b338756c8ef>\u001b[0m in \u001b[0;36m<module>\u001b[0;34m()\u001b[0m\n\u001b[1;32m      1\u001b[0m \u001b[0mdf_map\u001b[0m\u001b[0;34m[\u001b[0m\u001b[0;34m'pickup_kmeans'\u001b[0m\u001b[0;34m]\u001b[0m      \u001b[0;34m=\u001b[0m \u001b[0mclusters\u001b[0m\u001b[0;34m.\u001b[0m\u001b[0mpredict_df_column\u001b[0m\u001b[0;34m(\u001b[0m\u001b[0;34m'kmeans'\u001b[0m\u001b[0;34m,\u001b[0m      \u001b[0mpick_train\u001b[0m\u001b[0;34m)\u001b[0m\u001b[0;34m\u001b[0m\u001b[0m\n\u001b[0;32m----> 2\u001b[0;31m \u001b[0mdf_map\u001b[0m\u001b[0;34m[\u001b[0m\u001b[0;34m'pickup_wardAgg'\u001b[0m\u001b[0;34m]\u001b[0m     \u001b[0;34m=\u001b[0m \u001b[0mclusters\u001b[0m\u001b[0;34m.\u001b[0m\u001b[0mpredict_df_column\u001b[0m\u001b[0;34m(\u001b[0m\u001b[0;34m'wardAgg'\u001b[0m\u001b[0;34m,\u001b[0m     \u001b[0mpick_train\u001b[0m\u001b[0;34m)\u001b[0m\u001b[0;34m\u001b[0m\u001b[0m\n\u001b[0m\u001b[1;32m      3\u001b[0m \u001b[0mdf_map\u001b[0m\u001b[0;34m[\u001b[0m\u001b[0;34m'pickup_completeAgg'\u001b[0m\u001b[0;34m]\u001b[0m \u001b[0;34m=\u001b[0m \u001b[0mclusters\u001b[0m\u001b[0;34m.\u001b[0m\u001b[0mpredict_df_column\u001b[0m\u001b[0;34m(\u001b[0m\u001b[0;34m'completeAgg'\u001b[0m\u001b[0;34m,\u001b[0m \u001b[0mpick_train\u001b[0m\u001b[0;34m)\u001b[0m\u001b[0;34m\u001b[0m\u001b[0m\n\u001b[1;32m      4\u001b[0m \u001b[0;34m\u001b[0m\u001b[0m\n\u001b[1;32m      5\u001b[0m \u001b[0mdf_map\u001b[0m\u001b[0;34m[\u001b[0m\u001b[0;34m'dropoff_kmeans'\u001b[0m\u001b[0;34m]\u001b[0m      \u001b[0;34m=\u001b[0m \u001b[0mclusters\u001b[0m\u001b[0;34m.\u001b[0m\u001b[0mpredict_df_column\u001b[0m\u001b[0;34m(\u001b[0m\u001b[0;34m'kmeans'\u001b[0m\u001b[0;34m,\u001b[0m      \u001b[0mdropoff_train\u001b[0m\u001b[0;34m)\u001b[0m\u001b[0;34m\u001b[0m\u001b[0m\n",
      "\u001b[0;32m<ipython-input-14-9c72114191eb>\u001b[0m in \u001b[0;36mpredict_df_column\u001b[0;34m(self, algo_name, df_predict)\u001b[0m\n\u001b[1;32m     44\u001b[0m \u001b[0;34m\u001b[0m\u001b[0m\n\u001b[1;32m     45\u001b[0m     \u001b[0;32mdef\u001b[0m \u001b[0mpredict_df_column\u001b[0m\u001b[0;34m(\u001b[0m\u001b[0mself\u001b[0m\u001b[0;34m,\u001b[0m \u001b[0malgo_name\u001b[0m\u001b[0;34m,\u001b[0m \u001b[0mdf_predict\u001b[0m \u001b[0;34m)\u001b[0m\u001b[0;34m:\u001b[0m\u001b[0;34m\u001b[0m\u001b[0m\n\u001b[0;32m---> 46\u001b[0;31m         \u001b[0;32mreturn\u001b[0m \u001b[0mpd\u001b[0m\u001b[0;34m.\u001b[0m\u001b[0mDataFrame\u001b[0m\u001b[0;34m(\u001b[0m\u001b[0mself\u001b[0m\u001b[0;34m.\u001b[0m\u001b[0mpredict\u001b[0m\u001b[0;34m(\u001b[0m\u001b[0malgo_name\u001b[0m\u001b[0;34m,\u001b[0m \u001b[0mdf_predict\u001b[0m\u001b[0;34m.\u001b[0m\u001b[0mvalues\u001b[0m\u001b[0;34m)\u001b[0m\u001b[0;34m)\u001b[0m\u001b[0;34m\u001b[0m\u001b[0m\n\u001b[0m\u001b[1;32m     47\u001b[0m \u001b[0;34m\u001b[0m\u001b[0m\n",
      "\u001b[0;32m<ipython-input-14-9c72114191eb>\u001b[0m in \u001b[0;36mpredict\u001b[0;34m(self, name, X)\u001b[0m\n\u001b[1;32m     27\u001b[0m     \u001b[0;32mdef\u001b[0m \u001b[0mpredict\u001b[0m\u001b[0;34m(\u001b[0m\u001b[0mself\u001b[0m\u001b[0;34m,\u001b[0m \u001b[0mname\u001b[0m\u001b[0;34m,\u001b[0m \u001b[0mX\u001b[0m\u001b[0;34m)\u001b[0m\u001b[0;34m:\u001b[0m\u001b[0;34m\u001b[0m\u001b[0m\n\u001b[1;32m     28\u001b[0m         \u001b[0;32mif\u001b[0m \u001b[0mname\u001b[0m \u001b[0;32mnot\u001b[0m \u001b[0;32min\u001b[0m \u001b[0mself\u001b[0m\u001b[0;34m.\u001b[0m\u001b[0mcluster\u001b[0m\u001b[0;34m:\u001b[0m \u001b[0;32mreturn\u001b[0m\u001b[0;34m\u001b[0m\u001b[0m\n\u001b[0;32m---> 29\u001b[0;31m         \u001b[0;32mreturn\u001b[0m \u001b[0mself\u001b[0m\u001b[0;34m.\u001b[0m\u001b[0mcluster\u001b[0m\u001b[0;34m[\u001b[0m\u001b[0mname\u001b[0m\u001b[0;34m]\u001b[0m\u001b[0;34m[\u001b[0m\u001b[0;36m1\u001b[0m\u001b[0;34m]\u001b[0m\u001b[0;34m.\u001b[0m\u001b[0mpredict\u001b[0m\u001b[0;34m(\u001b[0m\u001b[0mX\u001b[0m\u001b[0;34m)\u001b[0m\u001b[0;34m\u001b[0m\u001b[0m\n\u001b[0m\u001b[1;32m     30\u001b[0m \u001b[0;34m\u001b[0m\u001b[0m\n\u001b[1;32m     31\u001b[0m     \u001b[0;32mdef\u001b[0m \u001b[0mkmeans\u001b[0m\u001b[0;34m(\u001b[0m\u001b[0mself\u001b[0m\u001b[0;34m,\u001b[0m \u001b[0muse_sample\u001b[0m\u001b[0;34m=\u001b[0m\u001b[0;36m500000\u001b[0m\u001b[0;34m,\u001b[0m \u001b[0mbatch_size\u001b[0m\u001b[0;34m=\u001b[0m\u001b[0;36m10000\u001b[0m\u001b[0;34m,\u001b[0m \u001b[0mrandom_state\u001b[0m\u001b[0;34m=\u001b[0m\u001b[0;36m1\u001b[0m\u001b[0;34m,\u001b[0m \u001b[0mdebug\u001b[0m\u001b[0;34m=\u001b[0m\u001b[0mFalse\u001b[0m \u001b[0;34m)\u001b[0m\u001b[0;34m:\u001b[0m\u001b[0;34m\u001b[0m\u001b[0m\n",
      "\u001b[0;31mAttributeError\u001b[0m: 'AgglomerativeClustering' object has no attribute 'predict'"
     ]
    }
   ],
   "source": [
    "df_map['pickup_kmeans']      = clusters.predict_df_column('kmeans',      pick_train)\n",
    "df_map['pickup_wardAgg']     = clusters.predict_df_column('wardAgg',     pick_train)\n",
    "df_map['pickup_completeAgg'] = clusters.predict_df_column('completeAgg', pick_train)\n",
    "\n",
    "df_map['dropoff_kmeans']      = clusters.predict_df_column('kmeans',      dropoff_train)\n",
    "df_map['dropoff_wardAgg']     = clusters.predict_df_column('wardAgg',     dropoff_train)\n",
    "df_map['dropoff_completeAgg'] = clusters.predict_df_column('completeAgg', dropoff_train)\n",
    "\n",
    "df_map.head()"
   ]
  },
  {
   "cell_type": "code",
   "execution_count": null,
   "metadata": {},
   "outputs": [],
   "source": [
    "df_map.loc[:, 'pickup_zone']  = pd.Series(clusters.predict('kmeans', pick_train.values),  index=df_map.index)\n",
    "df_map.loc[:, 'dropoff_zone'] = pd.Series(clusters.predict('kmeans', drop_train.values),  index=df_map.index)\n",
    "df_map.head()"
   ]
  },
  {
   "cell_type": "code",
   "execution_count": null,
   "metadata": {
    "collapsed": true
   },
   "outputs": [],
   "source": []
  },
  {
   "cell_type": "code",
   "execution_count": null,
   "metadata": {
    "collapsed": true
   },
   "outputs": [],
   "source": [
    "df_map = df[['pickup_longitude','pickup_latitude', 'dropoff_longitude','dropoff_latitude']]\n",
    "pick_train = df_map[['pickup_longitude','pickup_latitude']]\n",
    "drop_train = df_map[['dropoff_longitude','dropoff_latitude']]"
   ]
  },
  {
   "cell_type": "code",
   "execution_count": null,
   "metadata": {
    "collapsed": true
   },
   "outputs": [],
   "source": [
    "# mix up all coordinate records\n",
    "useData=500000\n",
    "batch_size=10000\n",
    "n_zone=100\n",
    "coords = np.vstack((pick_train.values, drop_train.values))\n",
    "\n",
    "np.random.seed(1)\n",
    "sample_ind = np.random.permutation(len(coords))[:useData]\n",
    "kmeans = MiniBatchKMeans(n_clusters=n_zone, batch_size=batch_size, random_state=1).fit(coords[sample_ind])"
   ]
  },
  {
   "cell_type": "code",
   "execution_count": null,
   "metadata": {},
   "outputs": [],
   "source": [
    "df_map.loc[:, 'pickup_zone']  = pd.Series(kmeans.predict(pick_train.values),  index=df_map.index)\n",
    "df_map.loc[:, 'dropoff_zone'] = pd.Series(kmeans.predict(drop_train.values),  index=df_map.index)\n",
    "df_map.head()"
   ]
  },
  {
   "cell_type": "code",
   "execution_count": null,
   "metadata": {},
   "outputs": [],
   "source": [
    "df_sub.loc[:, 'zone']  = kmeans.predict(df_sub[['longitude', 'latitude']])\n",
    "df_sub.head()"
   ]
  },
  {
   "cell_type": "code",
   "execution_count": null,
   "metadata": {},
   "outputs": [],
   "source": [
    "z_pick, z_drop = df_map['pickup_zone'].values, df_map['dropoff_zone'].values,\n",
    "z_sub = df_sub['zone'].values\n",
    "np.unique(z_pick)"
   ]
  },
  {
   "cell_type": "code",
   "execution_count": null,
   "metadata": {},
   "outputs": [],
   "source": [
    "cutmap = 1./100.\n",
    "df_ = df_map[ (df_map['pickup_longitude'] < df_map['pickup_longitude'].quantile(1-cutmap)) & \n",
    "              (df_map['pickup_longitude'] > df_map['pickup_longitude'].quantile(cutmap))   & \n",
    "              (df_map['pickup_latitude']  < df_map['pickup_latitude'].quantile(1-cutmap))  &  \n",
    "              (df_map['pickup_latitude']  > df_map['pickup_latitude'].quantile(cutmap))  ]\n",
    "\n",
    "x1, x2, y = df_[['pickup_longitude']].values, df_[['pickup_latitude']].values, df_['pickup_zone'].values\n",
    "X = np.hstack((x1, x2))\n",
    "\n",
    "plt.figure(figsize=(17,15))\n",
    "plot_decision_regions( X, y, kmeans, cmapn='nipy_spectral', resolution=0.0005 )\n",
    "#draw_sub_zone(df_subway)\n",
    "plt.show()"
   ]
  },
  {
   "cell_type": "code",
   "execution_count": null,
   "metadata": {},
   "outputs": [],
   "source": [
    "plt.figure(figsize=(17,15))\n",
    "draw_map_zone(df_map, 'pickup_longitude', 'pickup_latitude', 'pickup_zone', 'Pickup')\n",
    "draw_sub_zone(df_sub)\n",
    "plt.show()"
   ]
  },
  {
   "cell_type": "code",
   "execution_count": null,
   "metadata": {},
   "outputs": [],
   "source": [
    "plt.figure(figsize=(17,15))\n",
    "draw_map_zone(df_map, 'dropoff_longitude', 'dropoff_latitude', 'dropoff_zone', 'Pickup')\n",
    "draw_sub_zone(df_sub)\n",
    "plt.show()"
   ]
  },
  {
   "cell_type": "code",
   "execution_count": null,
   "metadata": {
    "collapsed": true
   },
   "outputs": [],
   "source": []
  }
 ],
 "metadata": {
  "kernelspec": {
   "display_name": "Python 2",
   "language": "python",
   "name": "python2"
  },
  "language_info": {
   "codemirror_mode": {
    "name": "ipython",
    "version": 2
   },
   "file_extension": ".py",
   "mimetype": "text/x-python",
   "name": "python",
   "nbconvert_exporter": "python",
   "pygments_lexer": "ipython2",
   "version": "2.7.13"
  }
 },
 "nbformat": 4,
 "nbformat_minor": 2
}
